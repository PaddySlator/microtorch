{
 "cells": [
  {
   "cell_type": "markdown",
   "metadata": {},
   "source": [
    "Deep Learning T1-T2-ADC example - adapted from deep_ivim_demo\n",
    "\n",
    "Code for unsupervised fitting of models to qMRI data.\n",
    "\n",
    "Code is adapted from Barbieri et al. https://github.com/sebbarb/deep_ivim/blob/master/deep_ivim_demo.ipynb \n"
   ]
  },
  {
   "cell_type": "code",
   "execution_count": 1,
   "metadata": {},
   "outputs": [],
   "source": [
    "# import libraries\n",
    "import numpy as np\n",
    "import matplotlib.pyplot as plt\n",
    "import torch\n",
    "import torch.nn as nn\n",
    "import torch.optim as optim\n",
    "import torch.utils.data as utils\n",
    "from tqdm import tqdm\n",
    "import nibabel as nib\n"
   ]
  },
  {
   "cell_type": "code",
   "execution_count": 2,
   "metadata": {},
   "outputs": [],
   "source": [
    "#define t1-t2-adc model\n",
    "def t1t2adc(b,TE,ti,D,T2,T1):\n",
    "    return abs(1 - (2*np.exp(-ti/T1)) + np.exp(-7.5/T1))*np.exp(-b*D) * np.exp(-(TE - np.min(TE))/T2)\n",
    "\n",
    "\n",
    "\n",
    "#def ball(ti, t1_, bvals, lambda_iso):\n",
    "#    return abs(1 - (2*np.exp(-ti/t1_)) + np.exp(-7.5/t1_))*np.exp(-bvals * lambda_iso) * np.exp(-(TE - np.min(TE))/T2)\n",
    "\n",
    "#def stick(ti, t1_, bvals, lambda_par, n, mu):\n",
    "#    return abs(1 - (2*np.exp(-ti/t1_)) + np.exp(-7.5/t1_))*np.exp(-bvals * lambda_par * np.dot(n, mu).transpose() ** 2) * np.exp(-(TE - np.min(TE))/T2)\n",
    "        \n",
    "#def ballstick(ti, t1_ball, t1_stick, bvals, lambda_iso, lambda_par, n, mu, Fp, s0):\n",
    "#    return s0*(Fp*(ball(ti, t1_ball, bvals, lambda_iso)) + (1-Fp)*(stick(ti, t1_stick, bvals, lambda_par, n, mu)))\n",
    "    \n",
    "    "
   ]
  },
  {
   "cell_type": "code",
   "execution_count": 3,
   "metadata": {},
   "outputs": [
    {
     "name": "stderr",
     "output_type": "stream",
     "text": [
      "/var/folders/q9/yt6f867d3zq18ksrj75kk1fc0000gn/T/ipykernel_99874/472985112.py:7: DeprecationWarning: get_data() is deprecated in favor of get_fdata(), which has a more predictable return type. To obtain get_data() behavior going forward, use numpy.asanyarray(img.dataobj).\n",
      "\n",
      "* deprecated from version: 3.0\n",
      "* Will raise <class 'nibabel.deprecator.ExpiredDeprecationError'> as of version: 5.0\n",
      "  img = imgnii.get_data()\n",
      "/var/folders/q9/yt6f867d3zq18ksrj75kk1fc0000gn/T/ipykernel_99874/472985112.py:8: DeprecationWarning: get_data() is deprecated in favor of get_fdata(), which has a more predictable return type. To obtain get_data() behavior going forward, use numpy.asanyarray(img.dataobj).\n",
      "\n",
      "* deprecated from version: 3.0\n",
      "* Will raise <class 'nibabel.deprecator.ExpiredDeprecationError'> as of version: 5.0\n",
      "  mask = masknii.get_data()\n"
     ]
    }
   ],
   "source": [
    "maskfile='/Users/paddyslator/Library/CloudStorage/OneDrive-UniversityCollegeLondon/data/cdmri-challenge-data/cdmri11_mask.nii'\n",
    "imgfile='/Users/paddyslator/Library/CloudStorage/OneDrive-UniversityCollegeLondon/data/cdmri-challenge-data/cdmri11_r.nii'\n",
    "\n",
    "imgnii = nib.load(imgfile)\n",
    "masknii = nib.load(maskfile)\n",
    "\n",
    "img = imgnii.get_data()\n",
    "mask = masknii.get_data()\n",
    "\n",
    "\n"
   ]
  },
  {
   "cell_type": "code",
   "execution_count": 4,
   "metadata": {},
   "outputs": [],
   "source": [
    "imgdim = np.shape(img)\n",
    "maskdim = np.shape(mask)\n",
    "\n",
    "imgvox = np.reshape(img, (np.prod(imgdim[0:3]),imgdim[3]))\n",
    "maskvox = np.reshape(mask, np.prod(imgdim[0:3]))\n",
    "\n",
    "#train on the voxels in the mask \n",
    "X_train = imgvox[maskvox == 1]\n",
    "\n",
    "\n",
    "#@Stefano X_train is nvox by nmeas - same as your .npy files \n"
   ]
  },
  {
   "cell_type": "code",
   "execution_count": 5,
   "metadata": {},
   "outputs": [],
   "source": [
    "gradechoinv = np.loadtxt('/Users/paddyslator/Library/CloudStorage/OneDrive-UniversityCollegeLondon/data/cdmri-challenge-data/gradechoinv.txt')\n",
    "\n",
    "bvecs = gradechoinv[:,0:2]\n",
    "bvals = gradechoinv[:,3]\n",
    "te = gradechoinv[:,4]\n",
    "ti = gradechoinv[:,5]\n",
    "\n",
    "#convert to sensible units\n",
    "#micrometre2/s\n",
    "bvals = bvals * 1e-3\n",
    "#seconds\n",
    "ti = ti * 1e-3\n",
    "te = te * 1e-3\n",
    "#\n",
    "\n"
   ]
  },
  {
   "cell_type": "code",
   "execution_count": 6,
   "metadata": {},
   "outputs": [],
   "source": [
    "#normalise\n",
    "\n",
    "#find the volumes to normalise by - max ti, b=0\n",
    "normvol = np.where(((bvals==min(bvals)) & (ti==max(ti)) & (te==min(te))))\n",
    "\n",
    "nvol = np.shape(X_train)[1]\n",
    "\n",
    "X_train = X_train/(np.tile(np.mean(X_train[:,normvol], axis=2),(1, nvol)))"
   ]
  },
  {
   "cell_type": "code",
   "execution_count": 7,
   "metadata": {},
   "outputs": [],
   "source": [
    "#define the t1-t2-adc neural network\n",
    "\n",
    "model='t1t2adc'\n",
    "\n",
    "if model=='t1t2adc':\n",
    "    nparams = 3\n",
    "    class Net(nn.Module):\n",
    "        def __init__(self, b_values, TE, TI  ):\n",
    "            super(Net, self).__init__()\n",
    "\n",
    "            self.b_values = b_values\n",
    "            self.TE = TE\n",
    "            self.TI = TI\n",
    "            self.fc_layers = nn.ModuleList()\n",
    "            for i in range(3): # 3 fully connected hidden layers\n",
    "                self.fc_layers.extend([nn.Linear(len(b_values), len(b_values)), nn.ELU()])\n",
    "            self.encoder = nn.Sequential(*self.fc_layers, nn.Linear(len(b_values), nparams))\n",
    "\n",
    "        def forward(self, X):\n",
    "            params = torch.abs(self.encoder(X)) # D, T2, T1\n",
    "            D = params[:, 0].unsqueeze(1)\n",
    "            T2 = params[:, 1].unsqueeze(1)\n",
    "            T1 = params[:,2].unsqueeze(1)\n",
    "\n",
    "    #        X = torch.exp(-self.b_values*D) * torch.exp(-(self.TE - torch.min(self.TE))/T2) \n",
    "\n",
    "            X = torch.abs(1 - (2*torch.exp(-self.TI/T1)) + torch.exp(-7.5/T1)) \\\n",
    "            * torch.exp(-self.b_values * D) \\\n",
    "            * torch.exp(-(self.TE - torch.min(self.TE))/T2)\n",
    "\n",
    "            return X, D, T2, T1\n",
    "    \n",
    "    \n",
    "    \n",
    "    \n",
    "# if model=='t1t2ballstick':  \n",
    "#     nparams = 7\n",
    "#     class Net(nn.Module):\n",
    "#         def __init__(self,  b_values, TE, TI, bvecs):\n",
    "#             super(Net, self).__init__()            \n",
    "#             self.b_values = b_values\n",
    "#             self.bvecs = bvecs\n",
    "#             self.TE = TE\n",
    "#             self.TI = TI            \n",
    "            \n",
    "#             self.fc_layers = nn.ModuleList()\n",
    "#             for i in range(3): \n",
    "#                 self.fc_layers.extend([nn.Linear(len(b_values), len(b_values)), nn.ELU()])\n",
    "#             self.encoder = nn.Sequential(*self.fc_layers, nn.Linear(len(b_values), nparams))\n",
    "        \n",
    "#         def forward(self, X):\n",
    "# #             if args.dropout != 0:\n",
    "# #                 X = self.dropout(X)\n",
    "#             params = torch.abs(self.encoder(X))\n",
    "#             t1_ball_uns = params[:, 0]\n",
    "#             #t1_ball = squash(t1_ball_uns, 0.010, 5.0)\n",
    "#             t1_stick_uns = params[:, 1]\n",
    "#             #t1_stick = squash(t1_stick_uns, 0.010, 5.0)\n",
    "#             lambda_par_uns = params[:, 2]\n",
    "#             #lambda_par = squash(lambda_par_uns, 0.1, 3.0)\n",
    "#             lambda_iso_uns = params[:, 3]\n",
    "#             #lambda_iso = squash(lambda_iso_uns, 0.1, 3.0)\n",
    "#             Fp = params[:,6].unsqueeze(1)\n",
    "#             theta = params[:,4].unsqueeze(1)\n",
    "#             phi = params[:,5].unsqueeze(1)\n",
    "#             mu_cart = torch.zeros(3,X.size()[0])\n",
    "#             sintheta = torch.sin(theta)\n",
    "#             mu_cart[0,:] = torch.squeeze(sintheta * torch.cos(phi))\n",
    "#             mu_cart[1,:] = torch.squeeze(sintheta * torch.sin(phi))\n",
    "#             mu_cart[2,:] = torch.squeeze(torch.cos(theta))\n",
    "\n",
    "#             mm_prod =  torch.einsum(\"ij,jk->ki\",self.bvecs, mu_cart)\n",
    "#             X = (Fp*(torch.abs(1 - (2*torch.exp(-self.TI/t1_ball)) + torch.exp(-7.5/t1_ball))*torch.exp(-self.b_values * lambda_iso)) + (1-Fp)*(torch.abs(1 - (2*torch.exp(-self.TI/t1_stick)) + torch.exp(-7.5/t1_stick))*torch.exp(-self.b_values * lambda_par * mm_prod ** 2)))\n",
    "#             return X, t1_ball, t1_stick, lambda_par, lambda_iso, mu_cart, Fp"
   ]
  },
  {
   "cell_type": "code",
   "execution_count": 8,
   "metadata": {},
   "outputs": [],
   "source": [
    "# make the Network\n",
    "#b_values_no0 = torch.FloatTensor(b_values[1:])\n",
    "#TE_nomin = torch.FloatTensor(TE[1:])\n",
    "\n",
    "b_values_tor = torch.FloatTensor(bvals)\n",
    "TE_tor = torch.FloatTensor(te)\n",
    "TI_tor = torch.FloatTensor(ti)\n",
    "bvecs_tor = torch.FloatTensor(bvecs)\n",
    "\n",
    "if model=='t1t2adc':\n",
    "    net = Net(b_values_tor, TE_tor, TI_tor)\n",
    "if model=='t1t2ballstick': \n",
    "    net = Net(b_values_tor, TE_tor, TI_tor, bvecs_tor)\n",
    "\n",
    "\n",
    "# Loss function and optimizer\n",
    "criterion = nn.MSELoss()\n",
    "optimizer = optim.Adam(net.parameters(), lr = 0.0001)  "
   ]
  },
  {
   "cell_type": "code",
   "execution_count": 9,
   "metadata": {},
   "outputs": [],
   "source": [
    "#create batch queues\n",
    "batch_size = 128\n",
    "num_batches = len(X_train) // batch_size\n",
    "\n",
    "#X_train = X_train[:,1:] # exlude the b=0 value as signals are normalized\n",
    "\n",
    "trainloader = utils.DataLoader(torch.from_numpy(X_train.astype(np.float32)),\n",
    "                                batch_size = batch_size, \n",
    "                                shuffle = True,\n",
    "                                num_workers = 2,\n",
    "                                drop_last = True)"
   ]
  },
  {
   "cell_type": "code",
   "execution_count": 10,
   "metadata": {},
   "outputs": [
    {
     "name": "stdout",
     "output_type": "stream",
     "text": [
      "-----------------------------------------------------------------\n",
      "Epoch: 0; Bad epochs: 0\n"
     ]
    },
    {
     "name": "stderr",
     "output_type": "stream",
     "text": [
      "100%|█████████████████████████████████████████████████████████████████████| 657/657 [00:12<00:00, 51.47it/s]\n"
     ]
    },
    {
     "name": "stdout",
     "output_type": "stream",
     "text": [
      "Loss: 6.823992525693029\n",
      "############### Saving good model ###############################\n",
      "-----------------------------------------------------------------\n",
      "Epoch: 1; Bad epochs: 0\n"
     ]
    },
    {
     "name": "stderr",
     "output_type": "stream",
     "text": [
      "100%|█████████████████████████████████████████████████████████████████████| 657/657 [00:12<00:00, 52.00it/s]\n"
     ]
    },
    {
     "name": "stdout",
     "output_type": "stream",
     "text": [
      "Loss: 5.12831146735698\n",
      "############### Saving good model ###############################\n",
      "-----------------------------------------------------------------\n",
      "Epoch: 2; Bad epochs: 0\n"
     ]
    },
    {
     "name": "stderr",
     "output_type": "stream",
     "text": [
      "100%|█████████████████████████████████████████████████████████████████████| 657/657 [00:13<00:00, 49.83it/s]\n"
     ]
    },
    {
     "name": "stdout",
     "output_type": "stream",
     "text": [
      "Loss: 5.073934702202678\n",
      "############### Saving good model ###############################\n",
      "-----------------------------------------------------------------\n",
      "Epoch: 3; Bad epochs: 0\n"
     ]
    },
    {
     "name": "stderr",
     "output_type": "stream",
     "text": [
      "100%|█████████████████████████████████████████████████████████████████████| 657/657 [00:13<00:00, 50.49it/s]\n"
     ]
    },
    {
     "name": "stdout",
     "output_type": "stream",
     "text": [
      "Loss: 4.977178189437836\n",
      "############### Saving good model ###############################\n",
      "-----------------------------------------------------------------\n",
      "Epoch: 4; Bad epochs: 0\n"
     ]
    },
    {
     "name": "stderr",
     "output_type": "stream",
     "text": [
      "100%|█████████████████████████████████████████████████████████████████████| 657/657 [00:12<00:00, 52.13it/s]\n"
     ]
    },
    {
     "name": "stdout",
     "output_type": "stream",
     "text": [
      "Loss: 5.045801188331097\n",
      "-----------------------------------------------------------------\n",
      "Epoch: 5; Bad epochs: 1\n"
     ]
    },
    {
     "name": "stderr",
     "output_type": "stream",
     "text": [
      "100%|█████████████████████████████████████████████████████████████████████| 657/657 [00:12<00:00, 50.63it/s]\n"
     ]
    },
    {
     "name": "stdout",
     "output_type": "stream",
     "text": [
      "Loss: 5.075185126625001\n",
      "-----------------------------------------------------------------\n",
      "Epoch: 6; Bad epochs: 2\n"
     ]
    },
    {
     "name": "stderr",
     "output_type": "stream",
     "text": [
      "100%|█████████████████████████████████████████████████████████████████████| 657/657 [00:13<00:00, 50.13it/s]\n"
     ]
    },
    {
     "name": "stdout",
     "output_type": "stream",
     "text": [
      "Loss: 4.7748563517816365\n",
      "############### Saving good model ###############################\n",
      "-----------------------------------------------------------------\n",
      "Epoch: 7; Bad epochs: 0\n"
     ]
    },
    {
     "name": "stderr",
     "output_type": "stream",
     "text": [
      "100%|█████████████████████████████████████████████████████████████████████| 657/657 [00:12<00:00, 52.08it/s]\n"
     ]
    },
    {
     "name": "stdout",
     "output_type": "stream",
     "text": [
      "Loss: 4.824548278003931\n",
      "-----------------------------------------------------------------\n",
      "Epoch: 8; Bad epochs: 1\n"
     ]
    },
    {
     "name": "stderr",
     "output_type": "stream",
     "text": [
      "100%|█████████████████████████████████████████████████████████████████████| 657/657 [00:12<00:00, 51.86it/s]\n"
     ]
    },
    {
     "name": "stdout",
     "output_type": "stream",
     "text": [
      "Loss: 4.722924564033747\n",
      "############### Saving good model ###############################\n",
      "-----------------------------------------------------------------\n",
      "Epoch: 9; Bad epochs: 0\n"
     ]
    },
    {
     "name": "stderr",
     "output_type": "stream",
     "text": [
      "100%|█████████████████████████████████████████████████████████████████████| 657/657 [00:12<00:00, 52.05it/s]\n"
     ]
    },
    {
     "name": "stdout",
     "output_type": "stream",
     "text": [
      "Loss: 4.648040525615215\n",
      "############### Saving good model ###############################\n",
      "-----------------------------------------------------------------\n",
      "Epoch: 10; Bad epochs: 0\n"
     ]
    },
    {
     "name": "stderr",
     "output_type": "stream",
     "text": [
      "100%|█████████████████████████████████████████████████████████████████████| 657/657 [00:12<00:00, 51.92it/s]\n"
     ]
    },
    {
     "name": "stdout",
     "output_type": "stream",
     "text": [
      "Loss: 4.6561682699248195\n",
      "-----------------------------------------------------------------\n",
      "Epoch: 11; Bad epochs: 1\n"
     ]
    },
    {
     "name": "stderr",
     "output_type": "stream",
     "text": [
      "100%|█████████████████████████████████████████████████████████████████████| 657/657 [00:13<00:00, 50.47it/s]\n"
     ]
    },
    {
     "name": "stdout",
     "output_type": "stream",
     "text": [
      "Loss: 4.647788678761572\n",
      "############### Saving good model ###############################\n",
      "-----------------------------------------------------------------\n",
      "Epoch: 12; Bad epochs: 0\n"
     ]
    },
    {
     "name": "stderr",
     "output_type": "stream",
     "text": [
      "100%|█████████████████████████████████████████████████████████████████████| 657/657 [00:12<00:00, 51.65it/s]\n"
     ]
    },
    {
     "name": "stdout",
     "output_type": "stream",
     "text": [
      "Loss: 4.653298289515078\n",
      "-----------------------------------------------------------------\n",
      "Epoch: 13; Bad epochs: 1\n"
     ]
    },
    {
     "name": "stderr",
     "output_type": "stream",
     "text": [
      "100%|█████████████████████████████████████████████████████████████████████| 657/657 [00:12<00:00, 51.49it/s]\n"
     ]
    },
    {
     "name": "stdout",
     "output_type": "stream",
     "text": [
      "Loss: 4.594094066880643\n",
      "############### Saving good model ###############################\n",
      "-----------------------------------------------------------------\n",
      "Epoch: 14; Bad epochs: 0\n"
     ]
    },
    {
     "name": "stderr",
     "output_type": "stream",
     "text": [
      "100%|█████████████████████████████████████████████████████████████████████| 657/657 [00:12<00:00, 50.68it/s]\n"
     ]
    },
    {
     "name": "stdout",
     "output_type": "stream",
     "text": [
      "Loss: 4.618680567480624\n",
      "-----------------------------------------------------------------\n",
      "Epoch: 15; Bad epochs: 1\n"
     ]
    },
    {
     "name": "stderr",
     "output_type": "stream",
     "text": [
      "100%|█████████████████████████████████████████████████████████████████████| 657/657 [00:12<00:00, 50.60it/s]\n"
     ]
    },
    {
     "name": "stdout",
     "output_type": "stream",
     "text": [
      "Loss: 4.558798237703741\n",
      "############### Saving good model ###############################\n",
      "-----------------------------------------------------------------\n",
      "Epoch: 16; Bad epochs: 0\n"
     ]
    },
    {
     "name": "stderr",
     "output_type": "stream",
     "text": [
      "100%|█████████████████████████████████████████████████████████████████████| 657/657 [00:12<00:00, 51.65it/s]\n"
     ]
    },
    {
     "name": "stdout",
     "output_type": "stream",
     "text": [
      "Loss: 4.618804765399545\n",
      "-----------------------------------------------------------------\n",
      "Epoch: 17; Bad epochs: 1\n"
     ]
    },
    {
     "name": "stderr",
     "output_type": "stream",
     "text": [
      "100%|█████████████████████████████████████████████████████████████████████| 657/657 [00:13<00:00, 50.48it/s]\n"
     ]
    },
    {
     "name": "stdout",
     "output_type": "stream",
     "text": [
      "Loss: 4.612812910228968\n",
      "-----------------------------------------------------------------\n",
      "Epoch: 18; Bad epochs: 2\n"
     ]
    },
    {
     "name": "stderr",
     "output_type": "stream",
     "text": [
      "100%|█████████████████████████████████████████████████████████████████████| 657/657 [00:13<00:00, 50.10it/s]\n"
     ]
    },
    {
     "name": "stdout",
     "output_type": "stream",
     "text": [
      "Loss: 4.504700753837824\n",
      "############### Saving good model ###############################\n",
      "-----------------------------------------------------------------\n",
      "Epoch: 19; Bad epochs: 0\n"
     ]
    },
    {
     "name": "stderr",
     "output_type": "stream",
     "text": [
      "100%|█████████████████████████████████████████████████████████████████████| 657/657 [00:14<00:00, 46.31it/s]\n"
     ]
    },
    {
     "name": "stdout",
     "output_type": "stream",
     "text": [
      "Loss: 4.620338259730488\n",
      "-----------------------------------------------------------------\n",
      "Epoch: 20; Bad epochs: 1\n"
     ]
    },
    {
     "name": "stderr",
     "output_type": "stream",
     "text": [
      "100%|█████████████████████████████████████████████████████████████████████| 657/657 [00:13<00:00, 48.77it/s]\n"
     ]
    },
    {
     "name": "stdout",
     "output_type": "stream",
     "text": [
      "Loss: 4.531538409180939\n",
      "-----------------------------------------------------------------\n",
      "Epoch: 21; Bad epochs: 2\n"
     ]
    },
    {
     "name": "stderr",
     "output_type": "stream",
     "text": [
      "100%|█████████████████████████████████████████████████████████████████████| 657/657 [00:12<00:00, 51.29it/s]\n"
     ]
    },
    {
     "name": "stdout",
     "output_type": "stream",
     "text": [
      "Loss: 4.519070769194514\n",
      "-----------------------------------------------------------------\n",
      "Epoch: 22; Bad epochs: 3\n"
     ]
    },
    {
     "name": "stderr",
     "output_type": "stream",
     "text": [
      "100%|█████████████████████████████████████████████████████████████████████| 657/657 [00:12<00:00, 51.18it/s]\n"
     ]
    },
    {
     "name": "stdout",
     "output_type": "stream",
     "text": [
      "Loss: 4.813208943232894\n",
      "-----------------------------------------------------------------\n",
      "Epoch: 23; Bad epochs: 4\n"
     ]
    },
    {
     "name": "stderr",
     "output_type": "stream",
     "text": [
      "100%|█████████████████████████████████████████████████████████████████████| 657/657 [00:12<00:00, 51.27it/s]\n"
     ]
    },
    {
     "name": "stdout",
     "output_type": "stream",
     "text": [
      "Loss: 5.214880081359297\n",
      "-----------------------------------------------------------------\n",
      "Epoch: 24; Bad epochs: 5\n"
     ]
    },
    {
     "name": "stderr",
     "output_type": "stream",
     "text": [
      "100%|█████████████████████████████████████████████████████████████████████| 657/657 [00:12<00:00, 50.68it/s]\n"
     ]
    },
    {
     "name": "stdout",
     "output_type": "stream",
     "text": [
      "Loss: 4.575894568581134\n",
      "-----------------------------------------------------------------\n",
      "Epoch: 25; Bad epochs: 6\n"
     ]
    },
    {
     "name": "stderr",
     "output_type": "stream",
     "text": [
      "100%|█████████████████████████████████████████████████████████████████████| 657/657 [00:13<00:00, 50.06it/s]\n"
     ]
    },
    {
     "name": "stdout",
     "output_type": "stream",
     "text": [
      "Loss: 4.506206856574863\n",
      "-----------------------------------------------------------------\n",
      "Epoch: 26; Bad epochs: 7\n"
     ]
    },
    {
     "name": "stderr",
     "output_type": "stream",
     "text": [
      "100%|█████████████████████████████████████████████████████████████████████| 657/657 [00:13<00:00, 49.83it/s]\n"
     ]
    },
    {
     "name": "stdout",
     "output_type": "stream",
     "text": [
      "Loss: 4.5600950489751995\n",
      "-----------------------------------------------------------------\n",
      "Epoch: 27; Bad epochs: 8\n"
     ]
    },
    {
     "name": "stderr",
     "output_type": "stream",
     "text": [
      "100%|█████████████████████████████████████████████████████████████████████| 657/657 [00:13<00:00, 48.29it/s]\n"
     ]
    },
    {
     "name": "stdout",
     "output_type": "stream",
     "text": [
      "Loss: 4.510272386483848\n",
      "-----------------------------------------------------------------\n",
      "Epoch: 28; Bad epochs: 9\n"
     ]
    },
    {
     "name": "stderr",
     "output_type": "stream",
     "text": [
      "100%|█████████████████████████████████████████████████████████████████████| 657/657 [00:12<00:00, 50.99it/s]\n"
     ]
    },
    {
     "name": "stdout",
     "output_type": "stream",
     "text": [
      "Loss: 4.495920590590686\n",
      "############### Saving good model ###############################\n",
      "-----------------------------------------------------------------\n",
      "Epoch: 29; Bad epochs: 0\n"
     ]
    },
    {
     "name": "stderr",
     "output_type": "stream",
     "text": [
      "100%|█████████████████████████████████████████████████████████████████████| 657/657 [00:12<00:00, 50.82it/s]\n"
     ]
    },
    {
     "name": "stdout",
     "output_type": "stream",
     "text": [
      "Loss: 4.604339582845569\n",
      "-----------------------------------------------------------------\n",
      "Epoch: 30; Bad epochs: 1\n"
     ]
    },
    {
     "name": "stderr",
     "output_type": "stream",
     "text": [
      "100%|█████████████████████████████████████████████████████████████████████| 657/657 [00:14<00:00, 46.90it/s]\n"
     ]
    },
    {
     "name": "stdout",
     "output_type": "stream",
     "text": [
      "Loss: 4.7913599433377385\n",
      "-----------------------------------------------------------------\n",
      "Epoch: 31; Bad epochs: 2\n"
     ]
    },
    {
     "name": "stderr",
     "output_type": "stream",
     "text": [
      "100%|█████████████████████████████████████████████████████████████████████| 657/657 [00:13<00:00, 49.79it/s]\n"
     ]
    },
    {
     "name": "stdout",
     "output_type": "stream",
     "text": [
      "Loss: 4.597615704871714\n",
      "-----------------------------------------------------------------\n",
      "Epoch: 32; Bad epochs: 3\n"
     ]
    },
    {
     "name": "stderr",
     "output_type": "stream",
     "text": [
      "100%|█████████████████████████████████████████████████████████████████████| 657/657 [00:13<00:00, 50.35it/s]\n"
     ]
    },
    {
     "name": "stdout",
     "output_type": "stream",
     "text": [
      "Loss: 4.4959924863651395\n",
      "-----------------------------------------------------------------\n",
      "Epoch: 33; Bad epochs: 4\n"
     ]
    },
    {
     "name": "stderr",
     "output_type": "stream",
     "text": [
      "100%|█████████████████████████████████████████████████████████████████████| 657/657 [00:12<00:00, 50.90it/s]\n"
     ]
    },
    {
     "name": "stdout",
     "output_type": "stream",
     "text": [
      "Loss: 4.495368516538292\n",
      "############### Saving good model ###############################\n",
      "-----------------------------------------------------------------\n",
      "Epoch: 34; Bad epochs: 0\n"
     ]
    },
    {
     "name": "stderr",
     "output_type": "stream",
     "text": [
      "100%|█████████████████████████████████████████████████████████████████████| 657/657 [00:12<00:00, 51.38it/s]\n"
     ]
    },
    {
     "name": "stdout",
     "output_type": "stream",
     "text": [
      "Loss: 4.512277237139642\n",
      "-----------------------------------------------------------------\n",
      "Epoch: 35; Bad epochs: 1\n"
     ]
    },
    {
     "name": "stderr",
     "output_type": "stream",
     "text": [
      "100%|█████████████████████████████████████████████████████████████████████| 657/657 [00:12<00:00, 51.64it/s]\n"
     ]
    },
    {
     "name": "stdout",
     "output_type": "stream",
     "text": [
      "Loss: 4.641505212523043\n",
      "-----------------------------------------------------------------\n",
      "Epoch: 36; Bad epochs: 2\n"
     ]
    },
    {
     "name": "stderr",
     "output_type": "stream",
     "text": [
      "100%|█████████████████████████████████████████████████████████████████████| 657/657 [00:12<00:00, 52.01it/s]\n"
     ]
    },
    {
     "name": "stdout",
     "output_type": "stream",
     "text": [
      "Loss: 4.51179529633373\n",
      "-----------------------------------------------------------------\n",
      "Epoch: 37; Bad epochs: 3\n"
     ]
    },
    {
     "name": "stderr",
     "output_type": "stream",
     "text": [
      "100%|█████████████████████████████████████████████████████████████████████| 657/657 [00:12<00:00, 51.63it/s]\n"
     ]
    },
    {
     "name": "stdout",
     "output_type": "stream",
     "text": [
      "Loss: 4.519563760608435\n",
      "-----------------------------------------------------------------\n",
      "Epoch: 38; Bad epochs: 4\n"
     ]
    },
    {
     "name": "stderr",
     "output_type": "stream",
     "text": [
      "100%|█████████████████████████████████████████████████████████████████████| 657/657 [00:12<00:00, 52.03it/s]\n"
     ]
    },
    {
     "name": "stdout",
     "output_type": "stream",
     "text": [
      "Loss: 4.641720829065889\n",
      "-----------------------------------------------------------------\n",
      "Epoch: 39; Bad epochs: 5\n"
     ]
    },
    {
     "name": "stderr",
     "output_type": "stream",
     "text": [
      "100%|█████████████████████████████████████████████████████████████████████| 657/657 [00:12<00:00, 51.77it/s]\n"
     ]
    },
    {
     "name": "stdout",
     "output_type": "stream",
     "text": [
      "Loss: 4.502028169576079\n",
      "-----------------------------------------------------------------\n",
      "Epoch: 40; Bad epochs: 6\n"
     ]
    },
    {
     "name": "stderr",
     "output_type": "stream",
     "text": [
      "100%|█████████████████████████████████████████████████████████████████████| 657/657 [00:12<00:00, 51.64it/s]\n"
     ]
    },
    {
     "name": "stdout",
     "output_type": "stream",
     "text": [
      "Loss: 4.48694196017459\n",
      "############### Saving good model ###############################\n",
      "-----------------------------------------------------------------\n",
      "Epoch: 41; Bad epochs: 0\n"
     ]
    },
    {
     "name": "stderr",
     "output_type": "stream",
     "text": [
      "100%|█████████████████████████████████████████████████████████████████████| 657/657 [00:12<00:00, 51.87it/s]\n"
     ]
    },
    {
     "name": "stdout",
     "output_type": "stream",
     "text": [
      "Loss: 4.500735325273126\n",
      "-----------------------------------------------------------------\n",
      "Epoch: 42; Bad epochs: 1\n"
     ]
    },
    {
     "name": "stderr",
     "output_type": "stream",
     "text": [
      "100%|█████████████████████████████████████████████████████████████████████| 657/657 [00:12<00:00, 51.63it/s]\n"
     ]
    },
    {
     "name": "stdout",
     "output_type": "stream",
     "text": [
      "Loss: 4.464659768156707\n",
      "############### Saving good model ###############################\n",
      "-----------------------------------------------------------------\n",
      "Epoch: 43; Bad epochs: 0\n"
     ]
    },
    {
     "name": "stderr",
     "output_type": "stream",
     "text": [
      "100%|█████████████████████████████████████████████████████████████████████| 657/657 [00:12<00:00, 50.66it/s]\n"
     ]
    },
    {
     "name": "stdout",
     "output_type": "stream",
     "text": [
      "Loss: 4.502526585943997\n",
      "-----------------------------------------------------------------\n",
      "Epoch: 44; Bad epochs: 1\n"
     ]
    },
    {
     "name": "stderr",
     "output_type": "stream",
     "text": [
      "100%|█████████████████████████████████████████████████████████████████████| 657/657 [00:12<00:00, 51.45it/s]\n"
     ]
    },
    {
     "name": "stdout",
     "output_type": "stream",
     "text": [
      "Loss: 4.539484527893364\n",
      "-----------------------------------------------------------------\n",
      "Epoch: 45; Bad epochs: 2\n"
     ]
    },
    {
     "name": "stderr",
     "output_type": "stream",
     "text": [
      "100%|█████████████████████████████████████████████████████████████████████| 657/657 [00:12<00:00, 51.95it/s]\n"
     ]
    },
    {
     "name": "stdout",
     "output_type": "stream",
     "text": [
      "Loss: 4.491437999065965\n",
      "-----------------------------------------------------------------\n",
      "Epoch: 46; Bad epochs: 3\n"
     ]
    },
    {
     "name": "stderr",
     "output_type": "stream",
     "text": [
      "100%|█████████████████████████████████████████████████████████████████████| 657/657 [00:12<00:00, 51.54it/s]\n"
     ]
    },
    {
     "name": "stdout",
     "output_type": "stream",
     "text": [
      "Loss: 4.514112256001681\n",
      "-----------------------------------------------------------------\n",
      "Epoch: 47; Bad epochs: 4\n"
     ]
    },
    {
     "name": "stderr",
     "output_type": "stream",
     "text": [
      "100%|█████████████████████████████████████████████████████████████████████| 657/657 [00:12<00:00, 51.92it/s]\n"
     ]
    },
    {
     "name": "stdout",
     "output_type": "stream",
     "text": [
      "Loss: 4.497148831374943\n",
      "-----------------------------------------------------------------\n",
      "Epoch: 48; Bad epochs: 5\n"
     ]
    },
    {
     "name": "stderr",
     "output_type": "stream",
     "text": [
      "100%|█████████████████████████████████████████████████████████████████████| 657/657 [00:12<00:00, 51.58it/s]\n"
     ]
    },
    {
     "name": "stdout",
     "output_type": "stream",
     "text": [
      "Loss: 4.523532126098871\n",
      "-----------------------------------------------------------------\n",
      "Epoch: 49; Bad epochs: 6\n"
     ]
    },
    {
     "name": "stderr",
     "output_type": "stream",
     "text": [
      "100%|█████████████████████████████████████████████████████████████████████| 657/657 [00:12<00:00, 51.17it/s]\n"
     ]
    },
    {
     "name": "stdout",
     "output_type": "stream",
     "text": [
      "Loss: 4.515084098093212\n",
      "-----------------------------------------------------------------\n",
      "Epoch: 50; Bad epochs: 7\n"
     ]
    },
    {
     "name": "stderr",
     "output_type": "stream",
     "text": [
      "100%|█████████████████████████████████████████████████████████████████████| 657/657 [00:12<00:00, 51.80it/s]\n"
     ]
    },
    {
     "name": "stdout",
     "output_type": "stream",
     "text": [
      "Loss: 4.520810042042285\n",
      "-----------------------------------------------------------------\n",
      "Epoch: 51; Bad epochs: 8\n"
     ]
    },
    {
     "name": "stderr",
     "output_type": "stream",
     "text": [
      "100%|█████████████████████████████████████████████████████████████████████| 657/657 [00:12<00:00, 51.75it/s]\n"
     ]
    },
    {
     "name": "stdout",
     "output_type": "stream",
     "text": [
      "Loss: 4.533642782829702\n",
      "-----------------------------------------------------------------\n",
      "Epoch: 52; Bad epochs: 9\n"
     ]
    },
    {
     "name": "stderr",
     "output_type": "stream",
     "text": [
      "100%|█████████████████████████████████████████████████████████████████████| 657/657 [00:12<00:00, 51.72it/s]"
     ]
    },
    {
     "name": "stdout",
     "output_type": "stream",
     "text": [
      "Loss: 4.5292896893806756\n",
      "Done, best loss: 4.464659768156707\n",
      "Done\n"
     ]
    },
    {
     "name": "stderr",
     "output_type": "stream",
     "text": [
      "\n"
     ]
    },
    {
     "data": {
      "text/plain": [
       "<All keys matched successfully>"
      ]
     },
     "execution_count": 10,
     "metadata": {},
     "output_type": "execute_result"
    }
   ],
   "source": [
    "# Best loss\n",
    "best = 1e16\n",
    "num_bad_epochs = 0\n",
    "patience = 10\n",
    "\n",
    "# Train\n",
    "for epoch in range(100): \n",
    "    print(\"-----------------------------------------------------------------\")\n",
    "    print(\"Epoch: {}; Bad epochs: {}\".format(epoch, num_bad_epochs))\n",
    "    net.train()\n",
    "    running_loss = 0.\n",
    "\n",
    "    for i, X_batch in enumerate(tqdm(trainloader), 0):\n",
    "        # zero the parameter gradients\n",
    "        optimizer.zero_grad()\n",
    "\n",
    "        # forward + backward + optimize\n",
    "        #X_pred, Dp_pred, Dt_pred, Fp_pred = net(X_batch)\n",
    "        X_pred, D_pred, T2_pred, T1_pred = net(X_batch)\n",
    "        loss = criterion(X_pred, X_batch)\n",
    "        loss.backward()\n",
    "        optimizer.step()\n",
    "        running_loss += loss.item()\n",
    "      \n",
    "    print(\"Loss: {}\".format(running_loss))\n",
    "    # early stopping\n",
    "    if running_loss < best:\n",
    "        print(\"############### Saving good model ###############################\")\n",
    "        final_model = net.state_dict()\n",
    "        best = running_loss\n",
    "        num_bad_epochs = 0\n",
    "    else:\n",
    "        num_bad_epochs = num_bad_epochs + 1\n",
    "        if num_bad_epochs == patience:\n",
    "            print(\"Done, best loss: {}\".format(best))\n",
    "            break\n",
    "print(\"Done\")\n",
    "# Restore best model\n",
    "net.load_state_dict(final_model)"
   ]
  },
  {
   "cell_type": "code",
   "execution_count": 11,
   "metadata": {},
   "outputs": [],
   "source": [
    "#Inference\n",
    "\n",
    "net.eval()\n",
    "with torch.no_grad():\n",
    "    X_pred, D, T2, T1 = net(torch.from_numpy(X_train.astype(np.float32)))\n",
    "    \n",
    "D = D.numpy()\n",
    "T2 = T2.numpy()\n",
    "T1 = T1.numpy()\n",
    "\n",
    "\n",
    "\n",
    "\n",
    "    "
   ]
  },
  {
   "cell_type": "code",
   "execution_count": 12,
   "metadata": {},
   "outputs": [],
   "source": [
    "# #reshape back into image \n",
    "\n",
    "D_vox = np.zeros(np.shape(maskvox))\n",
    "D_vox[maskvox==1] = np.squeeze(D[:])\n",
    "D_map = np.reshape(D_vox,np.shape(mask))\n",
    "\n",
    "T2_vox = np.zeros(np.shape(maskvox))\n",
    "T2_vox[maskvox==1] = np.squeeze(T2[:])\n",
    "T2_map = np.reshape(T2_vox,np.shape(mask))\n",
    "\n",
    "T1_vox = np.zeros(np.shape(maskvox))\n",
    "T1_vox[maskvox==1] = np.squeeze(T1[:])\n",
    "T1_map = np.reshape(T1_vox,np.shape(mask))\n",
    "\n"
   ]
  },
  {
   "cell_type": "code",
   "execution_count": 19,
   "metadata": {},
   "outputs": [
    {
     "data": {
      "text/plain": [
       "<matplotlib.image.AxesImage at 0x12aa4d090>"
      ]
     },
     "execution_count": 19,
     "metadata": {},
     "output_type": "execute_result"
    },
    {
     "data": {
      "image/png": "[encoded data removed]",
      "text/plain": [
       "<Figure size 640x480 with 1 Axes>"
      ]
     },
     "metadata": {},
     "output_type": "display_data"
    }
   ],
   "source": [
    "plt.imshow(T1_map[:,:,30])"
   ]
  },
  {
   "cell_type": "code",
   "execution_count": null,
   "metadata": {},
   "outputs": [],
   "source": []
  }
 ],
 "metadata": {
  "kernelspec": {
   "display_name": "Python 3 (ipykernel)",
   "language": "python",
   "name": "python3"
  },
  "language_info": {
   "codemirror_mode": {
    "name": "ipython",
    "version": 3
   },
   "file_extension": ".py",
   "mimetype": "text/x-python",
   "name": "python",
   "nbconvert_exporter": "python",
   "pygments_lexer": "ipython3",
   "version": "3.10.6"
  },
  "vscode": {
   "interpreter": {
    "hash": "1ca6ec867e98636ca0c4c75c3da984a3329c9a5ee8b915c41f07d90eaab86bba"
   }
  }
 },
 "nbformat": 4,
 "nbformat_minor": 2
}
