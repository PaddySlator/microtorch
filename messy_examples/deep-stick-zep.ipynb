{
 "cells": [
  {
   "cell_type": "markdown",
   "metadata": {},
   "source": [
    "Deep learning self supervised fitting of stick-zeppelin/zeppelin-zeppelin (with t2!) models for placental MRI"
   ]
  },
  {
   "cell_type": "code",
   "execution_count": null,
   "metadata": {},
   "outputs": [],
   "source": [
    "# import libraries\n",
    "import numpy as np\n",
    "import matplotlib.pyplot as plt\n",
    "import torch\n",
    "import torch.nn as nn\n",
    "import torch.optim as optim\n",
    "import torch.utils.data as utils\n",
    "from tqdm import tqdm"
   ]
  },
  {
   "cell_type": "code",
   "execution_count": null,
   "metadata": {},
   "outputs": [],
   "source": [
    "#define some models!\n",
    "\n",
    "#t2-ball-stick\n",
    "def t2ballstick(b,g,TE,D,Dpar,T2,n):\n",
    "    return np.exp(-(TE - np.min(TE))/T2) * np.exp(-b*D) * np.exp(-b * Dpar * torch.mm(g, n) ** 2)\n",
    "\n",
    "#t2-stick-zeppelin\n",
    "def t2ballstick(b,g,TE,D,Dpar,T2,n):\n",
    "    \n",
    "    #zeppelin calculation\n",
    "    #angle between gradient directions and fibre direction\n",
    "    costhetsq = (g * n)**2\n",
    "    zep = np.exp(-b * Dpar * torch.mm(g, n) ** 2) \n",
    "    \n",
    "    \n",
    "    return np.exp(-(TE - np.min(TE))/T2)  * np.exp(-b * Dpar * torch.mm(g, n) ** 2) * zep\n",
    "\n",
    "\n",
    "#angle between gradient directions and fibre direction\n",
    "% Angles between gradient directions and fibre direction.\n",
    "cosTheta = grad_dirs*fibredir;\n",
    "cosThetaSq = cosTheta.^2;\n",
    "\n",
    "\n",
    "grad_dirs = protocol.grad_dirs;\n",
    "% Angles between gradient directions and fibre direction.\n",
    "cosTheta = grad_dirs*fibredir;\n",
    "cosThetaSq = cosTheta.^2;\n",
    "\n",
    "Bval = GetBvalues(protocol)';\n",
    "Bval_par = Bval.*cosThetaSq;\n",
    "Bval_perp = Bval.*(1-cosThetaSq);\n",
    "ePar=exp(-Bval_par.*dPar); \n",
    "ePerp = exp(-Bval_perp.*dPerp);\n",
    "E = ePar.*ePerp;\n",
    "        \n",
    "        \n",
    "\n",
    "mu_perpendicular_plane = np.eye(3) - np.outer(mu, mu)\n",
    "    magnitude_parallel = np.dot(n, mu)\n",
    "    proj = np.dot(mu_perpendicular_plane, n.T)\n",
    "    magnitude_perpendicular = np.sqrt(\n",
    "        proj[0] ** 2 + proj[1] ** 2 + proj[2] ** 2)\n",
    "    E_zeppelin = np.exp(-bvals *\n",
    "                        (lambda_par * magnitude_parallel ** 2 +\n",
    "                         lambda_perp * magnitude_perpendicular ** 2)\n",
    "                        )\n",
    "    return E_zeppelin\n",
    "\n",
    "\n",
    "\n"
   ]
  },
  {
   "cell_type": "code",
   "execution_count": null,
   "metadata": {},
   "outputs": [],
   "source": []
  },
  {
   "cell_type": "code",
   "execution_count": null,
   "metadata": {},
   "outputs": [],
   "source": []
  }
 ],
 "metadata": {
  "kernelspec": {
   "display_name": "Python 3.10.6 ('.venv': venv)",
   "language": "python",
   "name": "python3"
  },
  "language_info": {
   "name": "python",
   "version": "3.10.6"
  },
  "orig_nbformat": 4,
  "vscode": {
   "interpreter": {
    "hash": "1ca6ec867e98636ca0c4c75c3da984a3329c9a5ee8b915c41f07d90eaab86bba"
   }
  }
 },
 "nbformat": 4,
 "nbformat_minor": 2
}
