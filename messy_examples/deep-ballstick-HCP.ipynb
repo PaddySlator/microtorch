{
 "cells": [
  {
   "cell_type": "markdown",
   "metadata": {},
   "source": [
    "Deep Learning How to Fit a ball-stick Model to HCP diffusion MRI data\n",
    "\n",
    "This is an adaptation of the original notebook describing the IVIM fitting approach proposed in \"Deep Learning How to Fit an Intravoxel Incoherent Motion Model to Diffusion-Weighted MRI\" by Barbieri et al., 2019. A preprint of the paper can be found at: https://arxiv.org/abs/1903.00095\n",
    "\n",
    "Note that I wrote this code quickly without much care so there's probably some bugs!\n",
    "\n",
    "Authors: Paddy Slator, Jason Lim, UCL.\n",
    "p.slator@ucl.ac.uk\n"
   ]
  },
  {
   "cell_type": "code",
   "execution_count": 1,
   "metadata": {},
   "outputs": [
    {
     "name": "stderr",
     "output_type": "stream",
     "text": [
      "/Users/paddyslator/python/self-qmri/.venv/lib/python3.10/site-packages/tqdm/auto.py:22: TqdmWarning: IProgress not found. Please update jupyter and ipywidgets. See https://ipywidgets.readthedocs.io/en/stable/user_install.html\n",
      "  from .autonotebook import tqdm as notebook_tqdm\n"
     ]
    }
   ],
   "source": [
    "# import libraries\n",
    "import numpy as np\n",
    "import matplotlib.pyplot as plt\n",
    "# import nibabel as nib\n",
    "import torch\n",
    "import torch.nn as nn\n",
    "import torch.optim as optim\n",
    "import torch.utils.data as utils\n",
    "from tqdm import tqdm\n",
    "import torch.nn.functional as F\n",
    "import math"
   ]
  },
  {
   "cell_type": "code",
   "execution_count": 2,
   "metadata": {},
   "outputs": [],
   "source": [
    "def cart2mu(xyz):\n",
    "    shape = xyz.shape[:-1]\n",
    "    mu = np.zeros(np.r_[shape, 2])\n",
    "    r = np.linalg.norm(xyz, axis=-1)\n",
    "    mu[..., 0] = np.arccos(xyz[..., 2] / r)  # theta\n",
    "    mu[..., 1] = np.arctan2(xyz[..., 1], xyz[..., 0])\n",
    "    mu[r == 0] = 0, 0\n",
    "    return mu\n"
   ]
  },
  {
   "cell_type": "code",
   "execution_count": 3,
   "metadata": {},
   "outputs": [],
   "source": [
    "#datadir = '/Users/paddyslator/ibm-aspera-connect-downloads/data1/103818/T1w/Diffusion/'\n",
    "\n",
    "#datadir = '/Users/paddyslator/ibm-aspera-connect-downloads/data1/114823/T1w/Diffusion/'\n",
    "\n",
    "datadir = '/Users/paddyslator/Library/CloudStorage/OneDrive-UniversityCollegeLondon/data/HCP/111312_1/T1w/Diffusion/'\n",
    "\n",
    "#datadir = '../Connecthon_WAND/charmed_train/derivatives/dwi/sub-06400/'\n",
    "\n"
   ]
  },
  {
   "cell_type": "code",
   "execution_count": 4,
   "metadata": {},
   "outputs": [],
   "source": [
    "#bvals = np.loadtxt(datadir + \"314_06400_CHARMED_2.bval\")\n",
    "#bvecs = np.loadtxt(datadir + \"bvec.eddy_rotated_bvec\")\n",
    "\n",
    "bvals = np.loadtxt(datadir + \"bvals\")\n",
    "bvecs = np.loadtxt(datadir + \"bvecs\")\n",
    "\n",
    "#convert to microns^2/ms\n",
    "bvals = bvals * 1e-03\n",
    "#\n",
    "bvecs = np.transpose(bvecs)\n",
    "\n",
    "\n",
    "\n"
   ]
  },
  {
   "cell_type": "code",
   "execution_count": 5,
   "metadata": {},
   "outputs": [
    {
     "data": {
      "text/plain": [
       "array([0.005, 0.99 , 0.995, 1.   , 1.005, 1.985, 1.99 , 1.995, 2.   ,\n",
       "       2.005, 2.01 , 2.98 , 2.985, 2.99 , 2.995, 3.   , 3.005, 3.01 ])"
      ]
     },
     "execution_count": 5,
     "metadata": {},
     "output_type": "execute_result"
    }
   ],
   "source": [
    "np.unique(bvals)"
   ]
  },
  {
   "cell_type": "code",
   "execution_count": 6,
   "metadata": {},
   "outputs": [
    {
     "name": "stdout",
     "output_type": "stream",
     "text": [
      "(288, 1)\n",
      "(288, 3)\n"
     ]
    }
   ],
   "source": [
    "print(np.shape(bvals[:,None]))\n",
    "print(np.shape(bvecs))\n",
    "\n",
    "grad = np.concatenate((bvecs,bvals[:,None]),axis=1)"
   ]
  },
  {
   "cell_type": "code",
   "execution_count": 7,
   "metadata": {},
   "outputs": [
    {
     "data": {
      "text/plain": [
       "(288, 3)"
      ]
     },
     "execution_count": 7,
     "metadata": {},
     "output_type": "execute_result"
    }
   ],
   "source": [
    "np.shape(grad[:,0:3])"
   ]
  },
  {
   "cell_type": "code",
   "execution_count": 8,
   "metadata": {},
   "outputs": [],
   "source": [
    "#define the torch models on their own?\n",
    "\n",
    "__all__ = [\n",
    "    'ball_stick'\n",
    "]\n",
    "\n",
    "\n",
    "def ball_stick(grad,params):\n",
    "    # extract the parameters\n",
    "    f = params[:,0].unsqueeze(1)\n",
    "    Dpar = params[:, 1].unsqueeze(1)\n",
    "    Diso = params[:, 2].unsqueeze(1)\n",
    "    theta = params[:, 3].unsqueeze(1)\n",
    "    phi = params[:, 4].unsqueeze(1)    \n",
    "    \n",
    "    g = grad[:,0:2]\n",
    "    bvals = grad[:,3]\n",
    "\n",
    "    E = f * stick(grad, Dpar, theta, phi) + (1 - f) * ball(grad, Diso)\n",
    "\n",
    "    return E\n",
    "\n",
    "\n",
    "def ball(grad, Diso):\n",
    "    bvals = grad[:, 3]\n",
    "\n",
    "    E = torch.exp(-bvals * Diso)\n",
    "    return E\n",
    "\n",
    "\n",
    "def stick(grad, Dpar, theta, phi):\n",
    "    g = grad[:, 0:2]\n",
    "    bvals = grad[:, 3]\n",
    "\n",
    "    n = sphere2cart(theta, phi)\n",
    "          \n",
    "    print(np.shape(bvals * Dpar))\n",
    "    print(n)\n",
    "    \n",
    "    E = torch.exp(-bvals * Dpar * torch.mm(g, n) ** 2)\n",
    "    return E\n",
    "\n",
    "def sphere2cart(theta,phi):   \n",
    "    n = torch.zeros(3,theta.size(0))\n",
    "        \n",
    "    n[0,:] = torch.squeeze(torch.sin(theta) * torch.cos(phi))\n",
    "    n[1,:] = torch.squeeze(torch.sin(theta) * torch.sin(phi))\n",
    "    n[2,:] = torch.squeeze(torch.cos(theta))   "
   ]
  },
  {
   "cell_type": "code",
   "execution_count": 9,
   "metadata": {},
   "outputs": [],
   "source": [
    "#paramstor = torch.tensor([[0.5, 1, 2, 0.2, 0.3],[0.2, 2, 2, 0, 2]])\n",
    "#gradtor = torch.tensor(grad)\n",
    "\n",
    "#ball_stick(gradtor, paramstor)"
   ]
  },
  {
   "cell_type": "code",
   "execution_count": 10,
   "metadata": {},
   "outputs": [],
   "source": [
    "# #jump straight in and define the neural network!\n",
    "\n",
    "# class Net(nn.Module):\n",
    "#     def __init__(self, gradient_directions_no0, b_values_no0, nparams):\n",
    "#         super(Net, self).__init__()\n",
    "#         #add grad directions, bvals\n",
    "#         self.gradient_directions_no0 = gradient_directions_no0\n",
    "#         self.b_values_no0 = b_values_no0\n",
    "#         self.fc_layers = nn.ModuleList()\n",
    "#         for i in range(3): # 3 fully connected hidden layers\n",
    "#             self.fc_layers.extend([nn.Linear(len(b_values_no0), len(b_values_no0)), nn.ReLU()])\n",
    "#         self.encoder = nn.Sequential(*self.fc_layers, nn.Linear(len(b_values_no0), nparams))\n",
    "#         #self.dropout = nn.Dropout(0.5)\n",
    "\n",
    "#     def forward(self, X):\n",
    "        \n",
    "#         #X = self.dropout(X)\n",
    "        \n",
    "#         params = torch.abs(self.encoder(X)) \n",
    "\n",
    "# #         t1_ball = params[:, 0].unsqueeze(1)\n",
    "# #         t1_stick = params[:, 1].unsqueeze(1)\n",
    "# #         lambda_par = params[:, 2].unsqueeze(1)\n",
    "# #         lambda_iso = params[:, 3].unsqueeze(1)\n",
    "# #         Fp = params[:,6].unsqueeze(1)\n",
    "# #         theta = params[:,4].unsqueeze(1)\n",
    "# #         phi = params[:,5].unsqueeze(1)\n",
    "\n",
    "#         D_par = torch.clamp(params[:, 0].unsqueeze(1), min=0.001, max=3)\n",
    "#         D_iso = torch.clamp(params[:, 1].unsqueeze(1), min=0.001, max=3)\n",
    "#         #Fp = torch.clamp(params[:,4].unsqueeze(1), min=0.001, max=1)\n",
    "#         Fp = params[:,4].unsqueeze(1)\n",
    "#         theta = params[:,2].unsqueeze(1)\n",
    "#         phi = params[:,3].unsqueeze(1)\n",
    "                \n",
    "#         mu_cart = torch.zeros(3,X.size()[0])\n",
    "#         sintheta = torch.sin(theta)\n",
    "#         mu_cart[0,:] = torch.squeeze(sintheta * torch.cos(phi))\n",
    "#         mu_cart[1,:] = torch.squeeze(sintheta * torch.sin(phi))\n",
    "#         mu_cart[2,:] = torch.squeeze(torch.cos(theta))\n",
    "#         X = Fp*torch.exp(-b_values_no0 * D_iso) + (1-Fp)*torch.exp(-b_values_no0 * D_par * torch.einsum(\"ij,jk->ki\",gradient_directions_no0, mu_cart) ** 2)\n",
    "#         return X, D_par, D_iso, mu_cart, Fp\n",
    "    \n",
    "    "
   ]
  },
  {
   "cell_type": "code",
   "execution_count": 11,
   "metadata": {},
   "outputs": [],
   "source": [
    "#jump straight in and define the neural network!\n",
    "\n",
    "#WRITE A WRAPPER FUNCTION MAKEMODEL \n",
    "#makemodel(grad,modelname,latent_dim,network)\n",
    "#different network VERSIONS - NORMAL NETWORK, VAE, ETC\n",
    "\n",
    "class VariationalNet(nn.Module):\n",
    "    def __init__(self, gradient_directions_no0, b_values_no0, nparams, latent_dim):\n",
    "        super(VariationalNet, self).__init__()\n",
    "        #add grad directions, bvals\n",
    "        self.gradient_directions_no0 = gradient_directions_no0\n",
    "        self.b_values_no0 = b_values_no0\n",
    "        self.fc_layers = nn.ModuleList()\n",
    "        \n",
    "        self.mean = nn.Linear(latent_dim, latent_dim, bias=True)\n",
    "        self.logvar = nn.Linear(latent_dim, latent_dim, bias=True)\n",
    "        \n",
    "        for i in range(3): # 3 fully connected hidden layers\n",
    "            self.fc_layers.extend([nn.Linear(len(b_values_no0), len(b_values_no0)), nn.ReLU()])\n",
    "        self.encoder = nn.Sequential(*self.fc_layers, nn.Linear(len(b_values_no0), latent_dim))\n",
    "        self.decoder = nn.Linear(latent_dim, nparams)\n",
    "        #self.dropout = nn.Dropout(0.5)\n",
    "        \n",
    "    def reparameterize(self, mu, logvar):\n",
    "        std = torch.exp(0.5 * logvar)\n",
    "        eps = torch.randn_like(std)\n",
    "        return eps * std + mu\n",
    "\n",
    "    def forward(self, X):\n",
    "        \n",
    "        #X = self.dropout(X)\n",
    "        \n",
    "        \n",
    "        output_latent = torch.abs(self.encoder(X)) \n",
    "        \n",
    "        mu, logvar = self.mean(output_latent), self.logvar(output_latent)\n",
    "        z = self.reparameterize(mu, logvar)\n",
    "        params = self.decoder(z)\n",
    "        params = F.softplus(params)\n",
    "        \n",
    "#         t1_ball = params[:, 0].unsqueeze(1)\n",
    "#         t1_stick = params[:, 1].unsqueeze(1)\n",
    "#         lambda_par = params[:, 2].unsqueeze(1)\n",
    "#         lambda_iso = params[:, 3].unsqueeze(1)\n",
    "#         Fp = params[:,6].unsqueeze(1)\n",
    "#         theta = params[:,4].unsqueeze(1)\n",
    "#         phi = params[:,5].unsqueeze(1)\n",
    "\n",
    "        \n",
    "        D = torch.clamp(params[:, 0].unsqueeze(1), min = 0.01, max = 5)\n",
    "        K = torch.clamp(params[:, 1].unsqueeze(1), min= 0.001, max=3)\n",
    "        \n",
    "        #D = params[:, 0].unsqueeze(1)\n",
    "        #K = params[:, 1].unsqueeze(1)\n",
    "        #bvals = self.grad[:,3]\n",
    "        #TE = self.grad[:,4]\n",
    "\n",
    "        X = torch.exp(-self.b_values_no0*D + (self.b_values_no0**2 * D**2 * K / 6)) \n",
    "        #X = \n",
    "        # D_par = torch.clamp(params[:, 0].unsqueeze(1), min=0.001, max=3)\n",
    "        # D_iso = torch.clamp(params[:, 1].unsqueeze(1), min=0.001, max=3)\n",
    "        # #Fp = torch.clamp(params[:,4].unsqueeze(1), min=0.001, max=1)\n",
    "        # Fp = params[:,4].unsqueeze(1)\n",
    "        # theta = params[:,2].unsqueeze(1)\n",
    "        # phi = params[:,3].unsqueeze(1)\n",
    "                \n",
    "        # mu_cart = torch.zeros(3,X.size()[0])\n",
    "        # sintheta = torch.sin(theta)\n",
    "        # mu_cart[0,:] = torch.squeeze(sintheta * torch.cos(phi))\n",
    "        # mu_cart[1,:] = torch.squeeze(sintheta * torch.sin(phi))\n",
    "        # mu_cart[2,:] = torch.squeeze(torch.cos(theta))\n",
    "        # X = Fp*torch.exp(-b_values_no0 * D_iso) + (1-Fp)*torch.exp(-b_values_no0 * D_par * torch.einsum(\"ij,jk->ki\",gradient_directions_no0, mu_cart) ** 2)\n",
    "        return X, D, K, mu, logvar\n",
    "    \n",
    "    "
   ]
  },
  {
   "cell_type": "code",
   "execution_count": 12,
   "metadata": {},
   "outputs": [],
   "source": [
    "# # Network\n",
    "# nparams = 5\n",
    "# b_values_no0 = torch.FloatTensor(bvals)\n",
    "# gradient_directions_no0 = torch.FloatTensor(bvecs)\n",
    "# net = Net(gradient_directions_no0, b_values_no0, nparams)\n",
    "\n",
    "# # Loss function and optimizer\n",
    "# criterion = nn.MSELoss()\n",
    "# optimizer = optim.Adam(net.parameters(), lr = 0.0001) \n",
    "# #optimizer = optim.SGD(net.parameters(), lr = 0.01) "
   ]
  },
  {
   "cell_type": "code",
   "execution_count": 13,
   "metadata": {},
   "outputs": [],
   "source": [
    "import nibabel as nib\n",
    "#load in some data and try fitting!\n",
    "#imgnii = nib.load(datadir + \"314_06400_CHARMED_denoisedMPPCA_driftCo_TED_gibbsCorrSubVoxShift.nii.gz\")\n",
    "imgnii = nib.load(datadir + \"data.nii.gz\")\n",
    "\n",
    "masknii = nib.load(datadir + \"nodif_brain_mask.nii.gz\")\n",
    "\n",
    "img = imgnii.get_fdata()\n",
    "mask = masknii.get_fdata()"
   ]
  },
  {
   "cell_type": "code",
   "execution_count": 14,
   "metadata": {},
   "outputs": [],
   "source": [
    "#preprocess data\n",
    "from utilities.preprocessing import direction_average\n",
    "\n",
    "#take the spherical mean\n",
    "grad = np.concatenate((bvecs,bvals[:,None]), axis=1)\n",
    "img,grad = direction_average(img,grad)"
   ]
  },
  {
   "cell_type": "code",
   "execution_count": null,
   "metadata": {},
   "outputs": [],
   "source": []
  },
  {
   "cell_type": "code",
   "execution_count": 15,
   "metadata": {},
   "outputs": [],
   "source": [
    "#image in voxel format\n",
    "nvoxtotal = np.prod(np.shape(img)[0:3])\n",
    "nvol = np.shape(img)[3]\n",
    "\n",
    "imgvox = np.reshape(img,(nvoxtotal,nvol))\n"
   ]
  },
  {
   "cell_type": "code",
   "execution_count": 16,
   "metadata": {},
   "outputs": [],
   "source": [
    "#do a smaller mask for now\n",
    "zslice = 75\n",
    "masktmp = np.zeros(np.shape(mask))\n",
    "masktmp[:,:,zslice] = mask[:,:,zslice]\n",
    "mask = masktmp\n",
    "\n",
    "#mask in voxel format\n",
    "maskvox = np.reshape(mask,(nvoxtotal))"
   ]
  },
  {
   "cell_type": "code",
   "execution_count": 17,
   "metadata": {},
   "outputs": [],
   "source": [
    "imgvoxtofit = imgvox[maskvox==1]"
   ]
  },
  {
   "cell_type": "code",
   "execution_count": 18,
   "metadata": {},
   "outputs": [],
   "source": [
    "#normalise the data\n",
    "\n",
    "#find the volumes to normalise by - max ti, b=0\n",
    "normvol = np.where(grad[:,3]==min(grad[:,3]))\n",
    "\n",
    "imgvoxtofitnorm = imgvoxtofit/(np.tile(np.mean(imgvoxtofit[:,normvol], axis=2),(1, nvol)))\n",
    "\n"
   ]
  },
  {
   "cell_type": "code",
   "execution_count": 19,
   "metadata": {},
   "outputs": [],
   "source": [
    "# Network\n",
    "def kld_loss(mu, logvar, mu_prior=0.0, var_prior=1.0):\n",
    "    # Kl between two Gaussians:\n",
    "    #print(mu.size())\n",
    "    #print(logvar.size())\n",
    "    #loss = -0.5 - logvar.mean() + math.log(var_prior) + (logvar.mean().exp() + (mu.mean() - mu_prior)**2) / (2*(var_prior)**2)\n",
    "    loss = - 0.5 * torch.sum(1 + logvar - mu.pow(2) - logvar.exp())\n",
    "    return loss, logvar.mean(), mu.mean()\n",
    "\n",
    "nparams = 4\n",
    "latent_dim = 128\n",
    "b_values_no0 = torch.FloatTensor(grad[:,3])\n",
    "gradient_directions_no0 = torch.FloatTensor(grad[:,0:2])\n",
    "net = VariationalNet(gradient_directions_no0, b_values_no0, nparams, latent_dim)\n",
    "\n",
    "# Loss function and optimizer\n",
    "criterion = nn.MSELoss()\n",
    "optimizer = optim.Adam(net.parameters(), lr = 0.001) \n",
    "#optimizer = optim.SGD(net.parameters(), lr = 0.01) "
   ]
  },
  {
   "cell_type": "code",
   "execution_count": 20,
   "metadata": {},
   "outputs": [],
   "source": [
    "#try on simulated data!\n",
    "#simdata = np.load('tests/simulated_data_ball_stick.npy')\n",
    "\n",
    "#simimgvoxtofitnorm = simdata.item()['simulated_signal']\n",
    "#ground_truth_param_vec = simdata.item()['ground_truth_param_vec']"
   ]
  },
  {
   "cell_type": "code",
   "execution_count": 21,
   "metadata": {},
   "outputs": [],
   "source": [
    "#create batch queues for real data\n",
    "batch_size = 128\n",
    "num_batches = len(imgvoxtofitnorm) // batch_size\n",
    "# X_train = X_train[:,1:] # exlude the b=0 value as signals are normalized\n",
    "trainloader = utils.DataLoader(torch.from_numpy(imgvoxtofitnorm.astype(np.float32)),\n",
    "                                batch_size = batch_size, \n",
    "                                shuffle = True,\n",
    "                                num_workers = 2,\n",
    "                                drop_last = True)\n",
    "\n"
   ]
  },
  {
   "cell_type": "code",
   "execution_count": 22,
   "metadata": {},
   "outputs": [],
   "source": [
    "# # Best loss\n",
    "# best = 1e16\n",
    "# num_bad_epochs = 0\n",
    "# patience = 5\n",
    "\n",
    "# # Train\n",
    "# for epoch in range(1000): \n",
    "#     print(\"-----------------------------------------------------------------\")\n",
    "#     print(\"Epoch: {}; Bad epochs: {}\".format(epoch, num_bad_epochs))\n",
    "#     net.train()\n",
    "#     running_loss = 0.\n",
    "\n",
    "#     for i, X_batch in enumerate(tqdm(trainloader), 0):\n",
    "#         # zero the parameter gradients\n",
    "#         optimizer.zero_grad()\n",
    "\n",
    "#         # forward + backward + optimize\n",
    "#         X_pred, D_par_pred, D_iso_pred, mu_pred, Fp_pred = net(X_batch)\n",
    "#         loss = criterion(X_pred, X_batch)\n",
    "#         loss.backward()\n",
    "#         optimizer.step()\n",
    "#         running_loss += loss.item()\n",
    "      \n",
    "#     print(\"Loss: {}\".format(running_loss))\n",
    "#     # early stopping\n",
    "#     if running_loss < best:\n",
    "#         print(\"############### Saving good model ###############################\")\n",
    "#         final_model = net.state_dict()\n",
    "#         best = running_loss\n",
    "#         num_bad_epochs = 0\n",
    "#     else:\n",
    "#         num_bad_epochs = num_bad_epochs + 1\n",
    "#         if num_bad_epochs == patience:\n",
    "#             print(\"Done, best loss: {}\".format(best))\n",
    "#             break\n",
    "# print(\"Done\")\n",
    "# # Restore best model\n",
    "# net.load_state_dict(final_model)"
   ]
  },
  {
   "cell_type": "code",
   "execution_count": 23,
   "metadata": {},
   "outputs": [
    {
     "name": "stdout",
     "output_type": "stream",
     "text": [
      "-----------------------------------------------------------------\n",
      "Epoch: 0; Bad epochs: 0\n"
     ]
    },
    {
     "name": "stderr",
     "output_type": "stream",
     "text": [
      "100%|██████████| 74/74 [00:01<00:00, 64.92it/s]\n"
     ]
    },
    {
     "name": "stdout",
     "output_type": "stream",
     "text": [
      "Loss: 0.024392839206533658, kl: 364.69726067620354, mse:0.024392839206533658, mu: -0.25396034121513367, logvar:0.020013222470879555\n",
      "############### Saving good model ###############################\n",
      "-----------------------------------------------------------------\n",
      "Epoch: 1; Bad epochs: 0\n"
     ]
    },
    {
     "name": "stderr",
     "output_type": "stream",
     "text": [
      "100%|██████████| 74/74 [00:00<00:00, 78.57it/s]\n"
     ]
    },
    {
     "name": "stdout",
     "output_type": "stream",
     "text": [
      "Loss: 0.009892046023663637, kl: 1608.0597996067356, mse:0.009731240054542149, mu: -0.8332732319831848, logvar:0.04762818291783333\n",
      "############### Saving good model ###############################\n",
      "-----------------------------------------------------------------\n",
      "Epoch: 2; Bad epochs: 0\n"
     ]
    },
    {
     "name": "stderr",
     "output_type": "stream",
     "text": [
      "100%|██████████| 74/74 [00:00<00:00, 77.90it/s]\n"
     ]
    },
    {
     "name": "stdout",
     "output_type": "stream",
     "text": [
      "Loss: 0.005573241480600995, kl: 4634.1917724609375, mse:0.004646403107766968, mu: -1.1523330211639404, logvar:0.04648873209953308\n",
      "############### Saving good model ###############################\n",
      "-----------------------------------------------------------------\n",
      "Epoch: 3; Bad epochs: 0\n"
     ]
    },
    {
     "name": "stderr",
     "output_type": "stream",
     "text": [
      "100%|██████████| 74/74 [00:00<00:00, 83.98it/s]\n"
     ]
    },
    {
     "name": "stdout",
     "output_type": "stream",
     "text": [
      "Loss: 0.005520235891831485, kl: 4166.409912109375, mse:0.00427031285456709, mu: -0.9113929867744446, logvar:0.032765477895736694\n",
      "############### Saving good model ###############################\n",
      "-----------------------------------------------------------------\n",
      "Epoch: 4; Bad epochs: 0\n"
     ]
    },
    {
     "name": "stderr",
     "output_type": "stream",
     "text": [
      "100%|██████████| 74/74 [00:00<00:00, 80.14it/s]\n"
     ]
    },
    {
     "name": "stdout",
     "output_type": "stream",
     "text": [
      "Loss: 0.005582358609457072, kl: 3085.786261481208, mse:0.004348044094906465, mu: -0.7057211399078369, logvar:0.02484465390443802\n",
      "-----------------------------------------------------------------\n",
      "Epoch: 5; Bad epochs: 1\n"
     ]
    },
    {
     "name": "stderr",
     "output_type": "stream",
     "text": [
      "100%|██████████| 74/74 [00:00<00:00, 78.96it/s]\n"
     ]
    },
    {
     "name": "stdout",
     "output_type": "stream",
     "text": [
      "Loss: 0.00551513907487026, kl: 2346.8217460013725, mse:0.004341728176695068, mu: -0.5429784655570984, logvar:0.018820680677890778\n",
      "############### Saving good model ###############################\n",
      "-----------------------------------------------------------------\n",
      "Epoch: 6; Bad epochs: 0\n"
     ]
    },
    {
     "name": "stderr",
     "output_type": "stream",
     "text": [
      "100%|██████████| 74/74 [00:00<00:00, 78.67it/s]\n"
     ]
    },
    {
     "name": "stdout",
     "output_type": "stream",
     "text": [
      "Loss: 0.0054785248200484625, kl: 1866.599003972234, mse:0.004358565346715418, mu: -0.42281046509742737, logvar:0.014657735824584961\n",
      "############### Saving good model ###############################\n",
      "-----------------------------------------------------------------\n",
      "Epoch: 7; Bad epochs: 0\n"
     ]
    },
    {
     "name": "stderr",
     "output_type": "stream",
     "text": [
      "100%|██████████| 74/74 [00:00<00:00, 81.47it/s]\n"
     ]
    },
    {
     "name": "stdout",
     "output_type": "stream",
     "text": [
      "Loss: 0.005397175161822422, kl: 1544.4792414484798, mse:0.004316039707486493, mu: -0.3141009509563446, logvar:0.019727978855371475\n",
      "############### Saving good model ###############################\n",
      "-----------------------------------------------------------------\n",
      "Epoch: 8; Bad epochs: 0\n"
     ]
    },
    {
     "name": "stderr",
     "output_type": "stream",
     "text": [
      "100%|██████████| 74/74 [00:00<00:00, 79.36it/s]\n"
     ]
    },
    {
     "name": "stdout",
     "output_type": "stream",
     "text": [
      "Loss: 0.005316757228905083, kl: 1317.1726329906567, mse:0.004263019091701387, mu: -0.24915097653865814, logvar:0.02229483425617218\n",
      "############### Saving good model ###############################\n",
      "-----------------------------------------------------------------\n",
      "Epoch: 9; Bad epochs: 0\n"
     ]
    },
    {
     "name": "stderr",
     "output_type": "stream",
     "text": [
      "100%|██████████| 74/74 [00:00<00:00, 83.76it/s]\n"
     ]
    },
    {
     "name": "stdout",
     "output_type": "stream",
     "text": [
      "Loss: 0.005336427491636494, kl: 1212.599867537215, mse:0.004245087690022145, mu: -0.20350006222724915, logvar:0.02124807983636856\n",
      "-----------------------------------------------------------------\n",
      "Epoch: 10; Bad epochs: 1\n"
     ]
    },
    {
     "name": "stderr",
     "output_type": "stream",
     "text": [
      "100%|██████████| 74/74 [00:00<00:00, 77.89it/s]\n"
     ]
    },
    {
     "name": "stdout",
     "output_type": "stream",
     "text": [
      "Loss: 0.005304144267496225, kl: 1112.436450855152, mse:0.004191707813407521, mu: -0.17089685797691345, logvar:0.02335074543952942\n",
      "############### Saving good model ###############################\n",
      "-----------------------------------------------------------------\n",
      "Epoch: 11; Bad epochs: 0\n"
     ]
    },
    {
     "name": "stderr",
     "output_type": "stream",
     "text": [
      "100%|██████████| 74/74 [00:00<00:00, 79.78it/s]\n"
     ]
    },
    {
     "name": "stdout",
     "output_type": "stream",
     "text": [
      "Loss: 0.005287861004723488, kl: 1035.1343458021008, mse:0.004149213222459563, mu: -0.15322351455688477, logvar:0.021229643374681473\n",
      "############### Saving good model ###############################\n",
      "-----------------------------------------------------------------\n",
      "Epoch: 12; Bad epochs: 0\n"
     ]
    },
    {
     "name": "stderr",
     "output_type": "stream",
     "text": [
      "100%|██████████| 74/74 [00:00<00:00, 79.38it/s]\n"
     ]
    },
    {
     "name": "stdout",
     "output_type": "stream",
     "text": [
      "Loss: 0.005305644552651289, kl: 984.4406515585409, mse:0.004124315700972, mu: -0.1294262707233429, logvar:0.018948301672935486\n",
      "-----------------------------------------------------------------\n",
      "Epoch: 13; Bad epochs: 1\n"
     ]
    },
    {
     "name": "stderr",
     "output_type": "stream",
     "text": [
      "100%|██████████| 74/74 [00:00<00:00, 75.04it/s]\n"
     ]
    },
    {
     "name": "stdout",
     "output_type": "stream",
     "text": [
      "Loss: 0.005292921965765591, kl: 923.8353791108002, mse:0.004091935959090856, mu: -0.1139334887266159, logvar:0.022176576778292656\n",
      "-----------------------------------------------------------------\n",
      "Epoch: 14; Bad epochs: 2\n"
     ]
    },
    {
     "name": "stderr",
     "output_type": "stream",
     "text": [
      "100%|██████████| 74/74 [00:00<00:00, 75.69it/s]\n"
     ]
    },
    {
     "name": "stdout",
     "output_type": "stream",
     "text": [
      "Loss: 0.005267816041973797, kl: 868.3928107184332, mse:0.0040520661435014494, mu: -0.09589604288339615, logvar:0.022657491266727448\n",
      "############### Saving good model ###############################\n",
      "-----------------------------------------------------------------\n",
      "Epoch: 15; Bad epochs: 0\n"
     ]
    },
    {
     "name": "stderr",
     "output_type": "stream",
     "text": [
      "100%|██████████| 74/74 [00:00<00:00, 79.40it/s]\n"
     ]
    },
    {
     "name": "stdout",
     "output_type": "stream",
     "text": [
      "Loss: 0.005262391994128356, kl: 825.8714096481735, mse:0.004023584845551365, mu: -0.09755164384841919, logvar:0.01686467044055462\n",
      "############### Saving good model ###############################\n",
      "-----------------------------------------------------------------\n",
      "Epoch: 16; Bad epochs: 0\n"
     ]
    },
    {
     "name": "stderr",
     "output_type": "stream",
     "text": [
      "100%|██████████| 74/74 [00:00<00:00, 75.11it/s]\n"
     ]
    },
    {
     "name": "stdout",
     "output_type": "stream",
     "text": [
      "Loss: 0.005222106969135033, kl: 776.3426068280194, mse:0.003979958817236931, mu: -0.09171406924724579, logvar:0.011119781993329525\n",
      "############### Saving good model ###############################\n",
      "-----------------------------------------------------------------\n",
      "Epoch: 17; Bad epochs: 0\n"
     ]
    },
    {
     "name": "stderr",
     "output_type": "stream",
     "text": [
      "100%|██████████| 74/74 [00:00<00:00, 82.58it/s]\n"
     ]
    },
    {
     "name": "stdout",
     "output_type": "stream",
     "text": [
      "Loss: 0.0051892104753721, kl: 738.1370057801943, mse:0.003934377577860613, mu: -0.07998280972242355, logvar:0.011337831616401672\n",
      "############### Saving good model ###############################\n",
      "-----------------------------------------------------------------\n",
      "Epoch: 18; Bad epochs: 0\n"
     ]
    },
    {
     "name": "stderr",
     "output_type": "stream",
     "text": [
      "100%|██████████| 74/74 [00:00<00:00, 78.18it/s]\n"
     ]
    },
    {
     "name": "stdout",
     "output_type": "stream",
     "text": [
      "Loss: 0.005103746916771539, kl: 689.8794135016363, mse:0.0038619639723234483, mu: -0.07193359732627869, logvar:0.010317121632397175\n",
      "############### Saving good model ###############################\n",
      "-----------------------------------------------------------------\n",
      "Epoch: 19; Bad epochs: 0\n"
     ]
    },
    {
     "name": "stderr",
     "output_type": "stream",
     "text": [
      "100%|██████████| 74/74 [00:00<00:00, 78.42it/s]\n"
     ]
    },
    {
     "name": "stdout",
     "output_type": "stream",
     "text": [
      "Loss: 0.005091318439037816, kl: 652.7791459367082, mse:0.0038510380954657857, mu: -0.07239095866680145, logvar:0.006291350815445185\n",
      "############### Saving good model ###############################\n",
      "-----------------------------------------------------------------\n",
      "Epoch: 20; Bad epochs: 0\n"
     ]
    },
    {
     "name": "stderr",
     "output_type": "stream",
     "text": [
      "100%|██████████| 74/74 [00:00<00:00, 79.26it/s]\n"
     ]
    },
    {
     "name": "stdout",
     "output_type": "stream",
     "text": [
      "Loss: 0.005057285769490173, kl: 619.7979736328125, mse:0.003817689828448803, mu: -0.07068921625614166, logvar:0.0050772251561284065\n",
      "############### Saving good model ###############################\n",
      "-----------------------------------------------------------------\n",
      "Epoch: 21; Bad epochs: 0\n"
     ]
    },
    {
     "name": "stderr",
     "output_type": "stream",
     "text": [
      "100%|██████████| 74/74 [00:00<00:00, 81.41it/s]\n"
     ]
    },
    {
     "name": "stdout",
     "output_type": "stream",
     "text": [
      "Loss: 0.005062605631915298, kl: 598.0853234368402, mse:0.0038066263801443414, mu: -0.06565389037132263, logvar:0.004142598249018192\n",
      "-----------------------------------------------------------------\n",
      "Epoch: 22; Bad epochs: 1\n"
     ]
    },
    {
     "name": "stderr",
     "output_type": "stream",
     "text": [
      "100%|██████████| 74/74 [00:00<00:00, 82.12it/s]\n"
     ]
    },
    {
     "name": "stdout",
     "output_type": "stream",
     "text": [
      "Loss: 0.0050732901137372525, kl: 576.9641039049303, mse:0.0038039691280573606, mu: -0.06458999216556549, logvar:0.0036691660061478615\n",
      "-----------------------------------------------------------------\n",
      "Epoch: 23; Bad epochs: 2\n"
     ]
    },
    {
     "name": "stderr",
     "output_type": "stream",
     "text": [
      "100%|██████████| 74/74 [00:00<00:00, 82.40it/s]\n"
     ]
    },
    {
     "name": "stdout",
     "output_type": "stream",
     "text": [
      "Loss: 0.005066142763590088, kl: 552.9563276961043, mse:0.0037943432013176986, mu: -0.06463466584682465, logvar:0.003329463303089142\n",
      "-----------------------------------------------------------------\n",
      "Epoch: 24; Bad epochs: 3\n"
     ]
    },
    {
     "name": "stderr",
     "output_type": "stream",
     "text": [
      "100%|██████████| 74/74 [00:00<00:00, 79.13it/s]\n"
     ]
    },
    {
     "name": "stdout",
     "output_type": "stream",
     "text": [
      "Loss: 0.005099535089086842, kl: 539.780955546611, mse:0.0038040607595010785, mu: -0.05838591977953911, logvar:0.0031883814372122288\n",
      "-----------------------------------------------------------------\n",
      "Epoch: 25; Bad epochs: 4\n"
     ]
    },
    {
     "name": "stderr",
     "output_type": "stream",
     "text": [
      "100%|██████████| 74/74 [00:00<00:00, 79.48it/s]\n"
     ]
    },
    {
     "name": "stdout",
     "output_type": "stream",
     "text": [
      "Loss: 0.0051156918839173945, kl: 522.0294193577122, mse:0.0038106183559205886, mu: -0.062215421348810196, logvar:0.0025972616858780384\n",
      "-----------------------------------------------------------------\n",
      "Epoch: 26; Bad epochs: 5\n"
     ]
    },
    {
     "name": "stderr",
     "output_type": "stream",
     "text": [
      "100%|██████████| 74/74 [00:00<00:00, 80.84it/s]\n"
     ]
    },
    {
     "name": "stdout",
     "output_type": "stream",
     "text": [
      "Loss: 0.005121532849640258, kl: 498.08893688305005, mse:0.003826501577891208, mu: -0.059696100652217865, logvar:0.0019664056599140167\n",
      "-----------------------------------------------------------------\n",
      "Epoch: 27; Bad epochs: 6\n"
     ]
    },
    {
     "name": "stderr",
     "output_type": "stream",
     "text": [
      "100%|██████████| 74/74 [00:00<00:00, 79.28it/s]\n"
     ]
    },
    {
     "name": "stdout",
     "output_type": "stream",
     "text": [
      "Loss: 0.005117297855306517, kl: 482.09119477143156, mse:0.003815651619555177, mu: -0.056971002370119095, logvar:0.0017457574140280485\n",
      "-----------------------------------------------------------------\n",
      "Epoch: 28; Bad epochs: 7\n"
     ]
    },
    {
     "name": "stderr",
     "output_type": "stream",
     "text": [
      "100%|██████████| 74/74 [00:00<00:00, 80.44it/s]\n"
     ]
    },
    {
     "name": "stdout",
     "output_type": "stream",
     "text": [
      "Loss: 0.005091901827679091, kl: 459.84034027924406, mse:0.0038043489000080407, mu: -0.051740869879722595, logvar:0.0017822673544287682\n",
      "-----------------------------------------------------------------\n",
      "Epoch: 29; Bad epochs: 8\n"
     ]
    },
    {
     "name": "stderr",
     "output_type": "stream",
     "text": [
      "100%|██████████| 74/74 [00:00<00:00, 79.83it/s]\n"
     ]
    },
    {
     "name": "stdout",
     "output_type": "stream",
     "text": [
      "Loss: 0.005040184575812639, kl: 438.9314583443307, mse:0.0037672833375934816, mu: -0.047612227499485016, logvar:0.001113777980208397\n",
      "############### Saving good model ###############################\n",
      "-----------------------------------------------------------------\n",
      "Epoch: 30; Bad epochs: 0\n"
     ]
    },
    {
     "name": "stderr",
     "output_type": "stream",
     "text": [
      "100%|██████████| 74/74 [00:00<00:00, 82.81it/s]\n"
     ]
    },
    {
     "name": "stdout",
     "output_type": "stream",
     "text": [
      "Loss: 0.004962233043074407, kl: 407.9277628305796, mse:0.0037384496787814677, mu: -0.044354408979415894, logvar:0.0014177673729136586\n",
      "############### Saving good model ###############################\n",
      "-----------------------------------------------------------------\n",
      "Epoch: 31; Bad epochs: 0\n"
     ]
    },
    {
     "name": "stderr",
     "output_type": "stream",
     "text": [
      "100%|██████████| 74/74 [00:00<00:00, 79.73it/s]\n"
     ]
    },
    {
     "name": "stdout",
     "output_type": "stream",
     "text": [
      "Loss: 0.00483619372322652, kl: 386.26581882786104, mse:0.003638769668287824, mu: -0.04034328833222389, logvar:0.001528402091935277\n",
      "############### Saving good model ###############################\n",
      "-----------------------------------------------------------------\n",
      "Epoch: 32; Bad epochs: 0\n"
     ]
    },
    {
     "name": "stderr",
     "output_type": "stream",
     "text": [
      "100%|██████████| 74/74 [00:00<00:00, 78.47it/s]\n"
     ]
    },
    {
     "name": "stdout",
     "output_type": "stream",
     "text": [
      "Loss: 0.004778526997118181, kl: 366.6410303889094, mse:0.0036052756728856146, mu: -0.03675338998436928, logvar:0.0014036950888112187\n",
      "############### Saving good model ###############################\n",
      "-----------------------------------------------------------------\n",
      "Epoch: 33; Bad epochs: 0\n"
     ]
    },
    {
     "name": "stderr",
     "output_type": "stream",
     "text": [
      "100%|██████████| 74/74 [00:00<00:00, 76.70it/s]\n"
     ]
    },
    {
     "name": "stdout",
     "output_type": "stream",
     "text": [
      "Loss: 0.004681509960367269, kl: 344.3560527079814, mse:0.003545135006346312, mu: -0.0324927493929863, logvar:0.0024768959265202284\n",
      "############### Saving good model ###############################\n",
      "-----------------------------------------------------------------\n",
      "Epoch: 34; Bad epochs: 0\n"
     ]
    },
    {
     "name": "stderr",
     "output_type": "stream",
     "text": [
      "100%|██████████| 74/74 [00:00<00:00, 81.96it/s]\n"
     ]
    },
    {
     "name": "stdout",
     "output_type": "stream",
     "text": [
      "Loss: 0.004570812109631259, kl: 319.9040729419605, mse:0.0034831383271847626, mu: -0.02977561578154564, logvar:0.0013537210179492831\n",
      "############### Saving good model ###############################\n",
      "-----------------------------------------------------------------\n",
      "Epoch: 35; Bad epochs: 0\n"
     ]
    },
    {
     "name": "stderr",
     "output_type": "stream",
     "text": [
      "100%|██████████| 74/74 [00:00<00:00, 81.38it/s]\n"
     ]
    },
    {
     "name": "stdout",
     "output_type": "stream",
     "text": [
      "Loss: 0.004475324738745553, kl: 305.4966634801916, mse:0.0034060864142972875, mu: -0.028118517249822617, logvar:0.0012123287888243794\n",
      "############### Saving good model ###############################\n",
      "-----------------------------------------------------------------\n",
      "Epoch: 36; Bad epochs: 0\n"
     ]
    },
    {
     "name": "stderr",
     "output_type": "stream",
     "text": [
      "100%|██████████| 74/74 [00:00<00:00, 79.66it/s]\n"
     ]
    },
    {
     "name": "stdout",
     "output_type": "stream",
     "text": [
      "Loss: 0.0044413959808849, kl: 294.36061013711463, mse:0.0033816977945231906, mu: -0.028732292354106903, logvar:0.0008783263619989157\n",
      "############### Saving good model ###############################\n",
      "-----------------------------------------------------------------\n",
      "Epoch: 37; Bad epochs: 0\n"
     ]
    },
    {
     "name": "stderr",
     "output_type": "stream",
     "text": [
      "100%|██████████| 74/74 [00:01<00:00, 72.56it/s]\n"
     ]
    },
    {
     "name": "stdout",
     "output_type": "stream",
     "text": [
      "Loss: 0.00442530310435875, kl: 286.4419347402212, mse:0.003365467971102712, mu: -0.02924864925444126, logvar:0.0004518100176937878\n",
      "############### Saving good model ###############################\n",
      "-----------------------------------------------------------------\n",
      "Epoch: 38; Bad epochs: 0\n"
     ]
    },
    {
     "name": "stderr",
     "output_type": "stream",
     "text": [
      "100%|██████████| 74/74 [00:00<00:00, 81.06it/s]\n"
     ]
    },
    {
     "name": "stdout",
     "output_type": "stream",
     "text": [
      "Loss: 0.0044183845386362155, kl: 279.3542142300992, mse:0.0033568384840052473, mu: -0.02813759073615074, logvar:0.0026003431994467974\n",
      "############### Saving good model ###############################\n",
      "-----------------------------------------------------------------\n",
      "Epoch: 39; Bad epochs: 0\n"
     ]
    },
    {
     "name": "stderr",
     "output_type": "stream",
     "text": [
      "100%|██████████| 74/74 [00:00<00:00, 79.95it/s]\n"
     ]
    },
    {
     "name": "stdout",
     "output_type": "stream",
     "text": [
      "Loss: 0.00442071897732849, kl: 270.7596551018792, mse:0.0033647563085085837, mu: -0.02870761789381504, logvar:0.0016027349047362804\n",
      "-----------------------------------------------------------------\n",
      "Epoch: 40; Bad epochs: 1\n"
     ]
    },
    {
     "name": "stderr",
     "output_type": "stream",
     "text": [
      "100%|██████████| 74/74 [00:00<00:00, 77.25it/s]\n"
     ]
    },
    {
     "name": "stdout",
     "output_type": "stream",
     "text": [
      "Loss: 0.004447705489960876, kl: 270.2506703557195, mse:0.0033667028230312908, mu: -0.028639083728194237, logvar:0.002694733440876007\n",
      "-----------------------------------------------------------------\n",
      "Epoch: 41; Bad epochs: 2\n"
     ]
    },
    {
     "name": "stderr",
     "output_type": "stream",
     "text": [
      "100%|██████████| 74/74 [00:00<00:00, 79.20it/s]\n"
     ]
    },
    {
     "name": "stdout",
     "output_type": "stream",
     "text": [
      "Loss: 0.004462877492974135, kl: 267.60034488987276, mse:0.003365716104068466, mu: -0.028484731912612915, logvar:0.0007962470990605652\n",
      "-----------------------------------------------------------------\n",
      "Epoch: 42; Bad epochs: 3\n"
     ]
    },
    {
     "name": "stderr",
     "output_type": "stream",
     "text": [
      "100%|██████████| 74/74 [00:00<00:00, 75.35it/s]\n"
     ]
    },
    {
     "name": "stdout",
     "output_type": "stream",
     "text": [
      "Loss: 0.004451975877698813, kl: 261.24777963999156, mse:0.0033547351722026594, mu: -0.02743200585246086, logvar:0.0006009457865729928\n",
      "-----------------------------------------------------------------\n",
      "Epoch: 43; Bad epochs: 4\n"
     ]
    },
    {
     "name": "stderr",
     "output_type": "stream",
     "text": [
      "100%|██████████| 74/74 [00:00<00:00, 78.15it/s]\n"
     ]
    },
    {
     "name": "stdout",
     "output_type": "stream",
     "text": [
      "Loss: 0.004466953171366775, kl: 257.41977774130334, mse:0.0033600481283674773, mu: -0.0291990265250206, logvar:-2.679768658708781e-05\n",
      "-----------------------------------------------------------------\n",
      "Epoch: 44; Bad epochs: 5\n"
     ]
    },
    {
     "name": "stderr",
     "output_type": "stream",
     "text": [
      "100%|██████████| 74/74 [00:00<00:00, 80.53it/s]\n"
     ]
    },
    {
     "name": "stdout",
     "output_type": "stream",
     "text": [
      "Loss: 0.004498562454623547, kl: 257.3017143043312, mse:0.0033664349671075674, mu: -0.02822466380894184, logvar:0.0011650281958281994\n",
      "-----------------------------------------------------------------\n",
      "Epoch: 45; Bad epochs: 6\n"
     ]
    },
    {
     "name": "stderr",
     "output_type": "stream",
     "text": [
      "100%|██████████| 74/74 [00:00<00:00, 80.76it/s]\n"
     ]
    },
    {
     "name": "stdout",
     "output_type": "stream",
     "text": [
      "Loss: 0.004508099631985297, kl: 255.08306678565773, mse:0.003360225767136325, mu: -0.027378268539905548, logvar:0.002234955783933401\n",
      "-----------------------------------------------------------------\n",
      "Epoch: 46; Bad epochs: 7\n"
     ]
    },
    {
     "name": "stderr",
     "output_type": "stream",
     "text": [
      "100%|██████████| 74/74 [00:00<00:00, 82.77it/s]\n"
     ]
    },
    {
     "name": "stdout",
     "output_type": "stream",
     "text": [
      "Loss: 0.004528263788292739, kl: 252.2177346719278, mse:0.003368062212610164, mu: -0.027992481365799904, logvar:0.0013207285664975643\n",
      "-----------------------------------------------------------------\n",
      "Epoch: 47; Bad epochs: 8\n"
     ]
    },
    {
     "name": "stderr",
     "output_type": "stream",
     "text": [
      "100%|██████████| 74/74 [00:00<00:00, 79.33it/s]\n"
     ]
    },
    {
     "name": "stdout",
     "output_type": "stream",
     "text": [
      "Loss: 0.004547327351001267, kl: 248.6669620823216, mse:0.0033785926360586607, mu: -0.028447795659303665, logvar:0.0006395185482688248\n",
      "-----------------------------------------------------------------\n",
      "Epoch: 48; Bad epochs: 9\n"
     ]
    },
    {
     "name": "stderr",
     "output_type": "stream",
     "text": [
      "100%|██████████| 74/74 [00:00<00:00, 83.83it/s]\n"
     ]
    },
    {
     "name": "stdout",
     "output_type": "stream",
     "text": [
      "Loss: 0.004580672959344009, kl: 248.95498677846547, mse:0.003385688955392185, mu: -0.028793001547455788, logvar:0.00011369763524271548\n",
      "-----------------------------------------------------------------\n",
      "Epoch: 49; Bad epochs: 10\n"
     ]
    },
    {
     "name": "stderr",
     "output_type": "stream",
     "text": [
      "100%|██████████| 74/74 [00:00<00:00, 80.10it/s]\n"
     ]
    },
    {
     "name": "stdout",
     "output_type": "stream",
     "text": [
      "Loss: 0.004597556975519133, kl: 244.9450493889886, mse:0.0033973262321229116, mu: -0.027546433731913567, logvar:0.0010335559491068125\n",
      "-----------------------------------------------------------------\n",
      "Epoch: 50; Bad epochs: 11\n"
     ]
    },
    {
     "name": "stderr",
     "output_type": "stream",
     "text": [
      "100%|██████████| 74/74 [00:00<00:00, 80.35it/s]\n"
     ]
    },
    {
     "name": "stdout",
     "output_type": "stream",
     "text": [
      "Loss: 0.004618798747558046, kl: 246.1341229000607, mse:0.003388128167874104, mu: -0.028380436822772026, logvar:-0.00044546465505845845\n",
      "-----------------------------------------------------------------\n",
      "Epoch: 51; Bad epochs: 12\n"
     ]
    },
    {
     "name": "stderr",
     "output_type": "stream",
     "text": [
      "100%|██████████| 74/74 [00:00<00:00, 80.04it/s]\n"
     ]
    },
    {
     "name": "stdout",
     "output_type": "stream",
     "text": [
      "Loss: 0.004671537946607615, kl: 246.0085595620645, mse:0.003416894266469958, mu: -0.029060788452625275, logvar:-0.00020726000366266817\n",
      "-----------------------------------------------------------------\n",
      "Epoch: 52; Bad epochs: 13\n"
     ]
    },
    {
     "name": "stderr",
     "output_type": "stream",
     "text": [
      "100%|██████████| 74/74 [00:00<00:00, 79.51it/s]\n"
     ]
    },
    {
     "name": "stdout",
     "output_type": "stream",
     "text": [
      "Loss: 0.00467592163791729, kl: 241.5133961857976, mse:0.0034200519628545924, mu: -0.02820567414164543, logvar:0.0004950185539200902\n",
      "-----------------------------------------------------------------\n",
      "Epoch: 53; Bad epochs: 14\n"
     ]
    },
    {
     "name": "stderr",
     "output_type": "stream",
     "text": [
      "100%|██████████| 74/74 [00:01<00:00, 73.56it/s]\n"
     ]
    },
    {
     "name": "stdout",
     "output_type": "stream",
     "text": [
      "Loss: 0.004683441277970937, kl: 238.58894760544234, mse:0.003418919907228367, mu: -0.02823094092309475, logvar:-0.00018392856873106211\n",
      "-----------------------------------------------------------------\n",
      "Epoch: 54; Bad epochs: 15\n"
     ]
    },
    {
     "name": "stderr",
     "output_type": "stream",
     "text": [
      "100%|██████████| 74/74 [00:00<00:00, 76.51it/s]\n"
     ]
    },
    {
     "name": "stdout",
     "output_type": "stream",
     "text": [
      "Loss: 0.004705358649025092, kl: 236.75633961445575, mse:0.0034268743522163176, mu: -0.02942451648414135, logvar:-0.0013947165571153164\n",
      "-----------------------------------------------------------------\n",
      "Epoch: 55; Bad epochs: 16\n"
     ]
    },
    {
     "name": "stderr",
     "output_type": "stream",
     "text": [
      "100%|██████████| 74/74 [00:00<00:00, 77.07it/s]\n"
     ]
    },
    {
     "name": "stdout",
     "output_type": "stream",
     "text": [
      "Loss: 0.004739836899790208, kl: 235.7626767545133, mse:0.003443142196251633, mu: -0.02699485793709755, logvar:0.001634901505894959\n",
      "-----------------------------------------------------------------\n",
      "Epoch: 56; Bad epochs: 17\n"
     ]
    },
    {
     "name": "stderr",
     "output_type": "stream",
     "text": [
      "100%|██████████| 74/74 [00:01<00:00, 73.18it/s]\n"
     ]
    },
    {
     "name": "stdout",
     "output_type": "stream",
     "text": [
      "Loss: 0.00477028580860713, kl: 236.2632858688767, mse:0.003447211457642953, mu: -0.02823466807603836, logvar:-9.09331429284066e-05\n",
      "-----------------------------------------------------------------\n",
      "Epoch: 57; Bad epochs: 18\n"
     ]
    },
    {
     "name": "stderr",
     "output_type": "stream",
     "text": [
      "100%|██████████| 74/74 [00:00<00:00, 77.24it/s]\n"
     ]
    },
    {
     "name": "stdout",
     "output_type": "stream",
     "text": [
      "Loss: 0.004778687348211738, kl: 233.57460929252005, mse:0.003447311996431971, mu: -0.026604745537042618, logvar:0.0017031675670295954\n",
      "-----------------------------------------------------------------\n",
      "Epoch: 58; Bad epochs: 19\n"
     ]
    },
    {
     "name": "stderr",
     "output_type": "stream",
     "text": [
      "100%|██████████| 74/74 [00:00<00:00, 80.53it/s]"
     ]
    },
    {
     "name": "stdout",
     "output_type": "stream",
     "text": [
      "Loss: 0.004805431002750993, kl: 233.97010040283203, mse:0.0034484044000556743, mu: -0.02723550610244274, logvar:0.0006052589742466807\n",
      "Done, best loss: 0.32696045585907996\n",
      "Done\n"
     ]
    },
    {
     "name": "stderr",
     "output_type": "stream",
     "text": [
      "\n"
     ]
    },
    {
     "data": {
      "text/plain": [
       "<All keys matched successfully>"
      ]
     },
     "execution_count": 23,
     "metadata": {},
     "output_type": "execute_result"
    }
   ],
   "source": [
    "# Best loss\n",
    "best = 1e16\n",
    "num_bad_epochs = 0\n",
    "patience = 20\n",
    "total_epochs = 1000\n",
    "alpha = 1e-4\n",
    "\n",
    "# Train\n",
    "for epoch in range(total_epochs): \n",
    "    alpha_current = alpha * epoch / total_epochs\n",
    "    print(\"-----------------------------------------------------------------\")\n",
    "    print(\"Epoch: {}; Bad epochs: {}\".format(epoch, num_bad_epochs))\n",
    "    net.train()\n",
    "    running_loss = 0.\n",
    "    running_mse = 0.\n",
    "    running_kl = 0.\n",
    "\n",
    "    for i, X_batch in enumerate(tqdm(trainloader), 0):\n",
    "        # zero the parameter gradients\n",
    "        optimizer.zero_grad()\n",
    "\n",
    "        # forward + backward + optimize\n",
    "        X_pred, D_pred, K_pred, mu, logvar = net(X_batch)\n",
    "        loss_kl, m, std = kld_loss(mu, logvar)\n",
    "        loss_mse = criterion(X_pred, X_batch)\n",
    "        loss = loss_mse + alpha_current*loss_kl.mean()\n",
    "        loss.backward()\n",
    "        optimizer.step()\n",
    "        running_loss += loss.item()\n",
    "        running_mse += loss_mse.item()\n",
    "        running_kl += loss_kl.item()\n",
    "      \n",
    "    print(\"Loss: {}, kl: {}, mse:{}, mu: {}, logvar:{}\".format(running_loss / (i + 1), running_kl / (i+1), running_mse / (i+1), m, std))\n",
    "    # early stopping\n",
    "    if running_loss < best:\n",
    "        print(\"############### Saving good model ###############################\")\n",
    "        final_model = net.state_dict()\n",
    "        best = running_loss\n",
    "        num_bad_epochs = 0\n",
    "    else:\n",
    "        num_bad_epochs = num_bad_epochs + 1\n",
    "        if num_bad_epochs == patience:\n",
    "            print(\"Done, best loss: {}\".format(best))\n",
    "            break\n",
    "print(\"Done\")\n",
    "# Restore best model\n",
    "net.load_state_dict(final_model)"
   ]
  },
  {
   "cell_type": "code",
   "execution_count": 24,
   "metadata": {},
   "outputs": [],
   "source": [
    "#estimate the real data para\n",
    "# meters with the trained network \n",
    "net.eval()\n",
    "with torch.no_grad():\n",
    "    X_real_pred, D, K, _, __ = net(torch.from_numpy(imgvoxtofitnorm.astype(np.float32)))\n",
    "    \n",
    "X_real_pred = X_real_pred.numpy()\n",
    "D = D.numpy()\n",
    "K = K.numpy()\n",
    "\n",
    "# mu_cart = mu_cart.numpy()\n",
    "# Fp = Fp.numpy()\n",
    "\n",
    "# mu_cart_transposed = mu_cart.transpose()\n",
    "# mu_vals = cart2mu(mu_cart_transposed)\n",
    "# theta = mu_vals[:,0]\n",
    "# phi = mu_vals[:,1]"
   ]
  },
  {
   "cell_type": "code",
   "execution_count": 25,
   "metadata": {},
   "outputs": [],
   "source": [
    "#if simulated compare to the training params!\n",
    "# import matplotlib.pyplot as plt\n",
    "\n",
    "# nparam = np.shape(ground_truth_param_vec)[1]\n",
    "\n",
    "# fig, ax = plt.subplots(nparam-1, 1, figsize=(5,20))\n",
    "\n",
    "# ax[0].plot(D_par,ground_truth_param_vec[:,2],'o',markersize=1)\n",
    "# ax[1].plot(D_iso,ground_truth_param_vec[:,3],'o',markersize=1)\n",
    "# ax[2].plot(Fp,ground_truth_param_vec[:,5],'o',markersize=1)\n",
    "# ax[3].plot(theta,ground_truth_param_vec[:,0],'o',markersize=1)\n",
    "# ax[4].plot(phi,ground_truth_param_vec[:,1],'o',markersize=1)\n"
   ]
  },
  {
   "cell_type": "code",
   "execution_count": 26,
   "metadata": {},
   "outputs": [],
   "source": [
    "# plt.plot(bvals,imgvoxtofitnorm[1000,:],'x')\n",
    "# plt.plot(bvals,X_real_pred[1000,:],'o')\n"
   ]
  },
  {
   "cell_type": "code",
   "execution_count": 27,
   "metadata": {},
   "outputs": [],
   "source": [
    "from scipy import ndimage\n",
    "\n",
    "D_vox = np.zeros(np.shape(maskvox))\n",
    "D_vox[maskvox==1] = np.squeeze(D[:])\n",
    "D_map = ndimage.rotate(np.reshape(D_vox,np.shape(mask)),90,reshape=False)\n",
    "\n",
    "K_vox = np.zeros(np.shape(maskvox))\n",
    "K_vox[maskvox==1] = np.squeeze(K[:])\n",
    "K_map = ndimage.rotate(np.reshape(K_vox,np.shape(mask)),90,reshape=False)\n",
    "\n",
    "# D_par_vox = np.zeros(np.shape(maskvox))\n",
    "# D_par_vox[maskvox==1] = np.squeeze(D_par[:])\n",
    "# D_par_map = ndimage.rotate(np.reshape(D_par_vox,np.shape(mask)),90,reshape=False)\n",
    "\n",
    "# D_iso_vox = np.zeros(np.shape(maskvox))\n",
    "# D_iso_vox[maskvox==1] = np.squeeze(D_iso[:])\n",
    "# D_iso_map = ndimage.rotate(np.reshape(D_iso_vox,np.shape(mask)),90,reshape=False)\n",
    "\n",
    "# theta_vox = np.zeros(np.shape(maskvox))\n",
    "# theta_vox[maskvox==1] = np.squeeze(theta[:])\n",
    "# theta_map = ndimage.rotate(np.reshape(theta_vox,np.shape(mask)),90,reshape=False)\n",
    "\n",
    "# phi_vox = np.zeros(np.shape(maskvox))\n",
    "# phi_vox[maskvox==1] = np.squeeze(phi[:])\n",
    "# phi_map = ndimage.rotate(np.reshape(phi_vox,np.shape(mask)),90,reshape=False)\n",
    "\n",
    "# Fp_vox = np.zeros(np.shape(maskvox))\n",
    "# Fp_vox[maskvox==1] = np.squeeze(Fp[:])\n",
    "# Fp_map = ndimage.rotate(np.reshape(Fp_vox,np.shape(mask)),90,reshape=False)\n",
    "\n",
    "# mu_cart_vox = np.zeros((np.shape(maskvox)[0],3))\n",
    "# mu_cart_vox[maskvox==1,:] = np.transpose(mu_cart[:])\n",
    "# mu_cart_map = ndimage.rotate(np.reshape(mu_cart_vox,np.append(np.shape(mask),3)),90,reshape=False)\n",
    "\n"
   ]
  },
  {
   "cell_type": "code",
   "execution_count": 28,
   "metadata": {},
   "outputs": [
    {
     "data": {
      "text/plain": [
       "(-0.5, 173.5, 144.5, -0.5)"
      ]
     },
     "execution_count": 28,
     "metadata": {},
     "output_type": "execute_result"
    },
    {
     "data": {
      "image/png": "[encoded data removed]",
      "text/plain": [
       "<Figure size 500x1000 with 4 Axes>"
      ]
     },
     "metadata": {},
     "output_type": "display_data"
    }
   ],
   "source": [
    "fig, ax = plt.subplots(2, 1, figsize=(5,10))\n",
    "\n",
    "plt0 = ax[0].imshow(D_map[:,:,zslice])\n",
    "plt.colorbar(plt0,ax=ax[0])\n",
    "ax[0].xaxis.set_ticklabels([]) \n",
    "ax[0].set_title('diffusivity ($\\mu$m$^2$/ms)')\n",
    "ax[0].axis('off')\n",
    "\n",
    "plt0 = ax[1].imshow(K_map[:,:,zslice])\n",
    "plt.colorbar(plt0,ax=ax[1])\n",
    "ax[1].set_title('kurtosis')\n",
    "ax[1].axis('off')"
   ]
  },
  {
   "cell_type": "code",
   "execution_count": 29,
   "metadata": {},
   "outputs": [
    {
     "data": {
      "text/plain": [
       "[<matplotlib.lines.Line2D at 0x16d3a6350>]"
      ]
     },
     "execution_count": 29,
     "metadata": {},
     "output_type": "execute_result"
    },
    {
     "data": {
      "image/png": "[encoded data removed]",
      "text/plain": [
       "<Figure size 640x480 with 1 Axes>"
      ]
     },
     "metadata": {},
     "output_type": "display_data"
    }
   ],
   "source": [
    "plt.plot(grad[:,3],X_real_pred[100,:])\n",
    "plt.plot(grad[:,3],imgvoxtofitnorm[100,:],'o')"
   ]
  },
  {
   "cell_type": "code",
   "execution_count": 30,
   "metadata": {},
   "outputs": [
    {
     "ename": "NameError",
     "evalue": "name 'D_par_map' is not defined",
     "output_type": "error",
     "traceback": [
      "\u001b[0;31m---------------------------------------------------------------------------\u001b[0m",
      "\u001b[0;31mNameError\u001b[0m                                 Traceback (most recent call last)",
      "\u001b[1;32m/Users/paddyslator/python/self-qmri/deep-ballstick-HCP.ipynb Cell 40\u001b[0m in \u001b[0;36m<cell line: 3>\u001b[0;34m()\u001b[0m\n\u001b[1;32m      <a href='vscode-notebook-cell:/Users/paddyslator/python/self-qmri/deep-ballstick-HCP.ipynb#X54sZmlsZQ%3D%3D?line=0'>1</a>\u001b[0m fig, ax \u001b[39m=\u001b[39m plt\u001b[39m.\u001b[39msubplots(\u001b[39m6\u001b[39m, \u001b[39m1\u001b[39m, figsize\u001b[39m=\u001b[39m(\u001b[39m5\u001b[39m,\u001b[39m20\u001b[39m))\n\u001b[0;32m----> <a href='vscode-notebook-cell:/Users/paddyslator/python/self-qmri/deep-ballstick-HCP.ipynb#X54sZmlsZQ%3D%3D?line=2'>3</a>\u001b[0m plt0 \u001b[39m=\u001b[39m ax[\u001b[39m0\u001b[39m]\u001b[39m.\u001b[39mimshow(D_par_map[:,:,zslice])\n\u001b[1;32m      <a href='vscode-notebook-cell:/Users/paddyslator/python/self-qmri/deep-ballstick-HCP.ipynb#X54sZmlsZQ%3D%3D?line=3'>4</a>\u001b[0m plt\u001b[39m.\u001b[39mcolorbar(plt0,ax\u001b[39m=\u001b[39max[\u001b[39m0\u001b[39m])\n\u001b[1;32m      <a href='vscode-notebook-cell:/Users/paddyslator/python/self-qmri/deep-ballstick-HCP.ipynb#X54sZmlsZQ%3D%3D?line=4'>5</a>\u001b[0m ax[\u001b[39m0\u001b[39m]\u001b[39m.\u001b[39mxaxis\u001b[39m.\u001b[39mset_ticklabels([]) \n",
      "\u001b[0;31mNameError\u001b[0m: name 'D_par_map' is not defined"
     ]
    },
    {
     "data": {
      "image/png": "[encoded data removed]",
      "text/plain": [
       "<Figure size 500x2000 with 6 Axes>"
      ]
     },
     "metadata": {},
     "output_type": "display_data"
    }
   ],
   "source": [
    "fig, ax = plt.subplots(6, 1, figsize=(5,20))\n",
    "\n",
    "plt0 = ax[0].imshow(D_par_map[:,:,zslice])\n",
    "plt.colorbar(plt0,ax=ax[0])\n",
    "ax[0].xaxis.set_ticklabels([]) \n",
    "ax[0].set_title('stick parallel diffusivity ($\\mu$m$^2$/ms)')\n",
    "ax[0].axis('off')\n",
    "\n",
    "plt0 = ax[1].imshow(D_iso_map[:,:,zslice])\n",
    "plt.colorbar(plt0,ax=ax[1])\n",
    "ax[1].set_title('ball isotropic diffusivity ($\\mu$m$^2$/ms)')\n",
    "ax[1].axis('off')\n",
    "\n",
    "plt0 = ax[2].imshow(theta_map[:,:,zslice])\n",
    "plt.colorbar(plt0,ax=ax[2])\n",
    "ax[2].set_title('theta')\n",
    "ax[2].axis('off')\n",
    "\n",
    "plt0 = ax[3].imshow(phi_map[:,:,zslice])\n",
    "plt.colorbar(plt0,ax=ax[3])\n",
    "ax[3].set_title('phi')\n",
    "ax[3].axis('off')\n",
    "\n",
    "plt0 = ax[4].imshow(1-Fp_map[:,:,zslice],vmin=0,vmax=1)\n",
    "plt.colorbar(plt0,ax=ax[4])\n",
    "ax[4].set_title('stick volume fraction')\n",
    "ax[4].axis('off')\n",
    "\n",
    "plt0 = ax[5].imshow(np.abs((1-Fp_map[:,:,zslice:zslice+1]) * mu_cart_map[:,:,zslice,:]))\n",
    "#plt0 = ax[5].imshow(np.abs(mu_cart_map[:,:,zslice,:]))\n",
    "ax[5].set_title('DEC map')\n",
    "ax[5].axis('off')\n"
   ]
  },
  {
   "cell_type": "code",
   "execution_count": null,
   "metadata": {},
   "outputs": [
    {
     "ename": "NameError",
     "evalue": "name 'D_par_map' is not defined",
     "output_type": "error",
     "traceback": [
      "\u001b[0;31m---------------------------------------------------------------------------\u001b[0m",
      "\u001b[0;31mNameError\u001b[0m                                 Traceback (most recent call last)",
      "\u001b[1;32m/Users/paddyslator/python/self-qmri/deep-ballstick-HCP.ipynb Cell 46\u001b[0m in \u001b[0;36m<cell line: 3>\u001b[0;34m()\u001b[0m\n\u001b[1;32m      <a href='vscode-notebook-cell:/Users/paddyslator/python/self-qmri/deep-ballstick-HCP.ipynb#X56sZmlsZQ%3D%3D?line=0'>1</a>\u001b[0m fig, ax \u001b[39m=\u001b[39m plt\u001b[39m.\u001b[39msubplots(\u001b[39m6\u001b[39m, \u001b[39m1\u001b[39m, figsize\u001b[39m=\u001b[39m(\u001b[39m5\u001b[39m,\u001b[39m20\u001b[39m))\n\u001b[0;32m----> <a href='vscode-notebook-cell:/Users/paddyslator/python/self-qmri/deep-ballstick-HCP.ipynb#X56sZmlsZQ%3D%3D?line=2'>3</a>\u001b[0m plt0 \u001b[39m=\u001b[39m ax[\u001b[39m0\u001b[39m]\u001b[39m.\u001b[39mimshow(D_par_map[:,:,zslice])\n\u001b[1;32m      <a href='vscode-notebook-cell:/Users/paddyslator/python/self-qmri/deep-ballstick-HCP.ipynb#X56sZmlsZQ%3D%3D?line=3'>4</a>\u001b[0m plt\u001b[39m.\u001b[39mcolorbar(plt0,ax\u001b[39m=\u001b[39max[\u001b[39m0\u001b[39m])\n\u001b[1;32m      <a href='vscode-notebook-cell:/Users/paddyslator/python/self-qmri/deep-ballstick-HCP.ipynb#X56sZmlsZQ%3D%3D?line=4'>5</a>\u001b[0m ax[\u001b[39m0\u001b[39m]\u001b[39m.\u001b[39mxaxis\u001b[39m.\u001b[39mset_ticklabels([]) \n",
      "\u001b[0;31mNameError\u001b[0m: name 'D_par_map' is not defined"
     ]
    },
    {
     "data": {
      "image/png": "[encoded data removed]",
      "text/plain": [
       "<Figure size 500x2000 with 6 Axes>"
      ]
     },
     "metadata": {},
     "output_type": "display_data"
    }
   ],
   "source": [
    "fig, ax = plt.subplots(6, 1, figsize=(5,20))\n",
    "\n",
    "plt0 = ax[0].imshow(D_par_map[:,:,zslice])\n",
    "plt.colorbar(plt0,ax=ax[0])\n",
    "ax[0].xaxis.set_ticklabels([]) \n",
    "ax[0].set_title('stick parallel diffusivity ($\\mu$m$^2$/ms)')\n",
    "ax[0].axis('off')\n",
    "\n",
    "plt0 = ax[1].imshow(D_iso_map[:,:,zslice])\n",
    "plt.colorbar(plt0,ax=ax[1])\n",
    "ax[1].set_title('ball isotropic diffusivity ($\\mu$m$^2$/ms)')\n",
    "ax[1].axis('off')\n",
    "\n",
    "plt0 = ax[2].imshow(theta_map[:,:,zslice])\n",
    "plt.colorbar(plt0,ax=ax[2])\n",
    "ax[2].set_title('theta')\n",
    "ax[2].axis('off')\n",
    "\n",
    "plt0 = ax[3].imshow(phi_map[:,:,zslice])\n",
    "plt.colorbar(plt0,ax=ax[3])\n",
    "ax[3].set_title('phi')\n",
    "ax[3].axis('off')\n",
    "\n",
    "plt0 = ax[4].imshow(1-Fp_map[:,:,zslice],vmin=0,vmax=1)\n",
    "plt.colorbar(plt0,ax=ax[4])\n",
    "ax[4].set_title('stick volume fraction')\n",
    "ax[4].axis('off')\n",
    "\n",
    "plt0 = ax[5].imshow(np.abs((1-Fp_map[:,:,zslice:zslice+1]) * mu_cart_map[:,:,zslice,:]))\n",
    "#plt0 = ax[5].imshow(np.abs(mu_cart_map[:,:,zslice,:]))\n",
    "ax[5].set_title('DEC map')\n",
    "ax[5].axis('off')\n"
   ]
  },
  {
   "cell_type": "code",
   "execution_count": null,
   "metadata": {},
   "outputs": [
    {
     "data": {
      "text/plain": [
       "(3, 110, 110)"
      ]
     },
     "execution_count": 94,
     "metadata": {},
     "output_type": "execute_result"
    }
   ],
   "source": [
    "np.shape(np.tile(Fp_map[:,:,zslice],(3,1,1)))"
   ]
  },
  {
   "cell_type": "code",
   "execution_count": null,
   "metadata": {},
   "outputs": [
    {
     "ename": "NameError",
     "evalue": "name 'mu_cart_map' is not defined",
     "output_type": "error",
     "traceback": [
      "\u001b[0;31m---------------------------------------------------------------------------\u001b[0m",
      "\u001b[0;31mNameError\u001b[0m                                 Traceback (most recent call last)",
      "\u001b[1;32m/Users/paddyslator/python/self-qmri/deep-ballstick-HCP.ipynb Cell 48\u001b[0m in \u001b[0;36m<cell line: 1>\u001b[0;34m()\u001b[0m\n\u001b[0;32m----> <a href='vscode-notebook-cell:/Users/paddyslator/python/self-qmri/deep-ballstick-HCP.ipynb#X61sZmlsZQ%3D%3D?line=0'>1</a>\u001b[0m np\u001b[39m.\u001b[39mshape(np\u001b[39m.\u001b[39mabs(mu_cart_map[:,:,zslice,:]))\n",
      "\u001b[0;31mNameError\u001b[0m: name 'mu_cart_map' is not defined"
     ]
    }
   ],
   "source": [
    "np.shape(np.abs(mu_cart_map[:,:,zslice,:]))"
   ]
  },
  {
   "cell_type": "code",
   "execution_count": null,
   "metadata": {},
   "outputs": [
    {
     "ename": "ValueError",
     "evalue": "x and y must have same first dimension, but have shapes (288,) and (18,)",
     "output_type": "error",
     "traceback": [
      "\u001b[0;31m---------------------------------------------------------------------------\u001b[0m",
      "\u001b[0;31mValueError\u001b[0m                                Traceback (most recent call last)",
      "\u001b[1;32m/Users/paddyslator/python/self-qmri/deep-ballstick-HCP.ipynb Cell 49\u001b[0m in \u001b[0;36m<cell line: 1>\u001b[0;34m()\u001b[0m\n\u001b[0;32m----> <a href='vscode-notebook-cell:/Users/paddyslator/python/self-qmri/deep-ballstick-HCP.ipynb#X62sZmlsZQ%3D%3D?line=0'>1</a>\u001b[0m plt\u001b[39m.\u001b[39;49mplot(bvals,imgvoxtofitnorm[\u001b[39m100\u001b[39;49m,:],\u001b[39m'\u001b[39;49m\u001b[39mo\u001b[39;49m\u001b[39m'\u001b[39;49m)\n\u001b[1;32m      <a href='vscode-notebook-cell:/Users/paddyslator/python/self-qmri/deep-ballstick-HCP.ipynb#X62sZmlsZQ%3D%3D?line=1'>2</a>\u001b[0m plt\u001b[39m.\u001b[39mplot(bvals,X_real_pred[\u001b[39m100\u001b[39m,:],\u001b[39m'\u001b[39m\u001b[39mx\u001b[39m\u001b[39m'\u001b[39m)\n",
      "File \u001b[0;32m~/.pyenv/versions/3.10.6/lib/python3.10/site-packages/matplotlib/pyplot.py:2767\u001b[0m, in \u001b[0;36mplot\u001b[0;34m(scalex, scaley, data, *args, **kwargs)\u001b[0m\n\u001b[1;32m   2765\u001b[0m \u001b[39m@_copy_docstring_and_deprecators\u001b[39m(Axes\u001b[39m.\u001b[39mplot)\n\u001b[1;32m   2766\u001b[0m \u001b[39mdef\u001b[39;00m \u001b[39mplot\u001b[39m(\u001b[39m*\u001b[39margs, scalex\u001b[39m=\u001b[39m\u001b[39mTrue\u001b[39;00m, scaley\u001b[39m=\u001b[39m\u001b[39mTrue\u001b[39;00m, data\u001b[39m=\u001b[39m\u001b[39mNone\u001b[39;00m, \u001b[39m*\u001b[39m\u001b[39m*\u001b[39mkwargs):\n\u001b[0;32m-> 2767\u001b[0m     \u001b[39mreturn\u001b[39;00m gca()\u001b[39m.\u001b[39;49mplot(\n\u001b[1;32m   2768\u001b[0m         \u001b[39m*\u001b[39;49margs, scalex\u001b[39m=\u001b[39;49mscalex, scaley\u001b[39m=\u001b[39;49mscaley,\n\u001b[1;32m   2769\u001b[0m         \u001b[39m*\u001b[39;49m\u001b[39m*\u001b[39;49m({\u001b[39m\"\u001b[39;49m\u001b[39mdata\u001b[39;49m\u001b[39m\"\u001b[39;49m: data} \u001b[39mif\u001b[39;49;00m data \u001b[39mis\u001b[39;49;00m \u001b[39mnot\u001b[39;49;00m \u001b[39mNone\u001b[39;49;00m \u001b[39melse\u001b[39;49;00m {}), \u001b[39m*\u001b[39;49m\u001b[39m*\u001b[39;49mkwargs)\n",
      "File \u001b[0;32m~/.pyenv/versions/3.10.6/lib/python3.10/site-packages/matplotlib/axes/_axes.py:1635\u001b[0m, in \u001b[0;36mAxes.plot\u001b[0;34m(self, scalex, scaley, data, *args, **kwargs)\u001b[0m\n\u001b[1;32m   1393\u001b[0m \u001b[39m\"\"\"\u001b[39;00m\n\u001b[1;32m   1394\u001b[0m \u001b[39mPlot y versus x as lines and/or markers.\u001b[39;00m\n\u001b[1;32m   1395\u001b[0m \n\u001b[0;32m   (...)\u001b[0m\n\u001b[1;32m   1632\u001b[0m \u001b[39m(``'green'``) or hex strings (``'#008000'``).\u001b[39;00m\n\u001b[1;32m   1633\u001b[0m \u001b[39m\"\"\"\u001b[39;00m\n\u001b[1;32m   1634\u001b[0m kwargs \u001b[39m=\u001b[39m cbook\u001b[39m.\u001b[39mnormalize_kwargs(kwargs, mlines\u001b[39m.\u001b[39mLine2D)\n\u001b[0;32m-> 1635\u001b[0m lines \u001b[39m=\u001b[39m [\u001b[39m*\u001b[39m\u001b[39mself\u001b[39m\u001b[39m.\u001b[39m_get_lines(\u001b[39m*\u001b[39margs, data\u001b[39m=\u001b[39mdata, \u001b[39m*\u001b[39m\u001b[39m*\u001b[39mkwargs)]\n\u001b[1;32m   1636\u001b[0m \u001b[39mfor\u001b[39;00m line \u001b[39min\u001b[39;00m lines:\n\u001b[1;32m   1637\u001b[0m     \u001b[39mself\u001b[39m\u001b[39m.\u001b[39madd_line(line)\n",
      "File \u001b[0;32m~/.pyenv/versions/3.10.6/lib/python3.10/site-packages/matplotlib/axes/_base.py:312\u001b[0m, in \u001b[0;36m_process_plot_var_args.__call__\u001b[0;34m(self, data, *args, **kwargs)\u001b[0m\n\u001b[1;32m    310\u001b[0m     this \u001b[39m+\u001b[39m\u001b[39m=\u001b[39m args[\u001b[39m0\u001b[39m],\n\u001b[1;32m    311\u001b[0m     args \u001b[39m=\u001b[39m args[\u001b[39m1\u001b[39m:]\n\u001b[0;32m--> 312\u001b[0m \u001b[39myield from\u001b[39;00m \u001b[39mself\u001b[39;49m\u001b[39m.\u001b[39;49m_plot_args(this, kwargs)\n",
      "File \u001b[0;32m~/.pyenv/versions/3.10.6/lib/python3.10/site-packages/matplotlib/axes/_base.py:498\u001b[0m, in \u001b[0;36m_process_plot_var_args._plot_args\u001b[0;34m(self, tup, kwargs, return_kwargs)\u001b[0m\n\u001b[1;32m    495\u001b[0m     \u001b[39mself\u001b[39m\u001b[39m.\u001b[39maxes\u001b[39m.\u001b[39myaxis\u001b[39m.\u001b[39mupdate_units(y)\n\u001b[1;32m    497\u001b[0m \u001b[39mif\u001b[39;00m x\u001b[39m.\u001b[39mshape[\u001b[39m0\u001b[39m] \u001b[39m!=\u001b[39m y\u001b[39m.\u001b[39mshape[\u001b[39m0\u001b[39m]:\n\u001b[0;32m--> 498\u001b[0m     \u001b[39mraise\u001b[39;00m \u001b[39mValueError\u001b[39;00m(\u001b[39mf\u001b[39m\u001b[39m\"\u001b[39m\u001b[39mx and y must have same first dimension, but \u001b[39m\u001b[39m\"\u001b[39m\n\u001b[1;32m    499\u001b[0m                      \u001b[39mf\u001b[39m\u001b[39m\"\u001b[39m\u001b[39mhave shapes \u001b[39m\u001b[39m{\u001b[39;00mx\u001b[39m.\u001b[39mshape\u001b[39m}\u001b[39;00m\u001b[39m and \u001b[39m\u001b[39m{\u001b[39;00my\u001b[39m.\u001b[39mshape\u001b[39m}\u001b[39;00m\u001b[39m\"\u001b[39m)\n\u001b[1;32m    500\u001b[0m \u001b[39mif\u001b[39;00m x\u001b[39m.\u001b[39mndim \u001b[39m>\u001b[39m \u001b[39m2\u001b[39m \u001b[39mor\u001b[39;00m y\u001b[39m.\u001b[39mndim \u001b[39m>\u001b[39m \u001b[39m2\u001b[39m:\n\u001b[1;32m    501\u001b[0m     \u001b[39mraise\u001b[39;00m \u001b[39mValueError\u001b[39;00m(\u001b[39mf\u001b[39m\u001b[39m\"\u001b[39m\u001b[39mx and y can be no greater than 2D, but have \u001b[39m\u001b[39m\"\u001b[39m\n\u001b[1;32m    502\u001b[0m                      \u001b[39mf\u001b[39m\u001b[39m\"\u001b[39m\u001b[39mshapes \u001b[39m\u001b[39m{\u001b[39;00mx\u001b[39m.\u001b[39mshape\u001b[39m}\u001b[39;00m\u001b[39m and \u001b[39m\u001b[39m{\u001b[39;00my\u001b[39m.\u001b[39mshape\u001b[39m}\u001b[39;00m\u001b[39m\"\u001b[39m)\n",
      "\u001b[0;31mValueError\u001b[0m: x and y must have same first dimension, but have shapes (288,) and (18,)"
     ]
    },
    {
     "data": {
      "image/png": "[encoded data removed]",
      "text/plain": [
       "<Figure size 640x480 with 1 Axes>"
      ]
     },
     "metadata": {},
     "output_type": "display_data"
    }
   ],
   "source": [
    "plt.plot(bvals,imgvoxtofitnorm[100,:],'o')\n",
    "plt.plot(bvals,X_real_pred[100,:],'x')"
   ]
  },
  {
   "cell_type": "code",
   "execution_count": null,
   "metadata": {},
   "outputs": [
    {
     "ename": "NameError",
     "evalue": "name 'mu_cart_map' is not defined",
     "output_type": "error",
     "traceback": [
      "\u001b[0;31m---------------------------------------------------------------------------\u001b[0m",
      "\u001b[0;31mNameError\u001b[0m                                 Traceback (most recent call last)",
      "\u001b[1;32m/Users/paddyslator/python/self-qmri/deep-ballstick-HCP.ipynb Cell 50\u001b[0m in \u001b[0;36m<cell line: 3>\u001b[0;34m()\u001b[0m\n\u001b[1;32m      <a href='vscode-notebook-cell:/Users/paddyslator/python/self-qmri/deep-ballstick-HCP.ipynb#X63sZmlsZQ%3D%3D?line=0'>1</a>\u001b[0m fig, ax \u001b[39m=\u001b[39m plt\u001b[39m.\u001b[39msubplots(\u001b[39m1\u001b[39m, \u001b[39m1\u001b[39m, figsize\u001b[39m=\u001b[39m(\u001b[39m50\u001b[39m,\u001b[39m50\u001b[39m))\n\u001b[0;32m----> <a href='vscode-notebook-cell:/Users/paddyslator/python/self-qmri/deep-ballstick-HCP.ipynb#X63sZmlsZQ%3D%3D?line=2'>3</a>\u001b[0m x,y \u001b[39m=\u001b[39m np\u001b[39m.\u001b[39mmeshgrid(np\u001b[39m.\u001b[39mlinspace(\u001b[39m0\u001b[39m,np\u001b[39m.\u001b[39mshape(mu_cart_map)[\u001b[39m1\u001b[39m],np\u001b[39m.\u001b[39mshape(mu_cart_map)[\u001b[39m1\u001b[39m]), np\u001b[39m.\u001b[39mlinspace(\u001b[39m0\u001b[39m,np\u001b[39m.\u001b[39mshape(mu_cart_map)[\u001b[39m0\u001b[39m],np\u001b[39m.\u001b[39mshape(mu_cart_map)[\u001b[39m0\u001b[39m]))\n\u001b[1;32m      <a href='vscode-notebook-cell:/Users/paddyslator/python/self-qmri/deep-ballstick-HCP.ipynb#X63sZmlsZQ%3D%3D?line=4'>5</a>\u001b[0m u \u001b[39m=\u001b[39m mu_cart_map[:,:,zslice,\u001b[39m0\u001b[39m]\n\u001b[1;32m      <a href='vscode-notebook-cell:/Users/paddyslator/python/self-qmri/deep-ballstick-HCP.ipynb#X63sZmlsZQ%3D%3D?line=5'>6</a>\u001b[0m v \u001b[39m=\u001b[39m mu_cart_map[:,:,zslice,\u001b[39m1\u001b[39m]\n",
      "\u001b[0;31mNameError\u001b[0m: name 'mu_cart_map' is not defined"
     ]
    },
    {
     "data": {
      "image/png": "[encoded data removed]",
      "text/plain": [
       "<Figure size 5000x5000 with 1 Axes>"
      ]
     },
     "metadata": {},
     "output_type": "display_data"
    }
   ],
   "source": [
    "fig, ax = plt.subplots(1, 1, figsize=(50,50))\n",
    "\n",
    "x,y = np.meshgrid(np.linspace(0,np.shape(mu_cart_map)[1],np.shape(mu_cart_map)[1]), np.linspace(0,np.shape(mu_cart_map)[0],np.shape(mu_cart_map)[0]))\n",
    "\n",
    "u = mu_cart_map[:,:,zslice,0]\n",
    "v = mu_cart_map[:,:,zslice,1]\n",
    "\n",
    "plt.quiver(x,y,u,v, headlength=0, headaxislength=0)\n",
    "plt.show()\n"
   ]
  },
  {
   "cell_type": "code",
   "execution_count": null,
   "metadata": {},
   "outputs": [],
   "source": []
  },
  {
   "cell_type": "code",
   "execution_count": null,
   "metadata": {},
   "outputs": [],
   "source": [
    "from models import ball_stick"
   ]
  },
  {
   "cell_type": "code",
   "execution_count": null,
   "metadata": {},
   "outputs": [],
   "source": [
    "plt.imshow(np.abs(mu_cart_map)[:,:,zslice,:])\n",
    "plt.show()"
   ]
  },
  {
   "cell_type": "code",
   "execution_count": null,
   "metadata": {},
   "outputs": [],
   "source": [
    "\n",
    "\n"
   ]
  },
  {
   "cell_type": "code",
   "execution_count": null,
   "metadata": {},
   "outputs": [],
   "source": [
    "#MAKE THESE INTO BIG SIMULATED DATASETS! THEN TRAIN!\n",
    "mu = (np.pi / 2., np.pi / 2.)  # in radians\n",
    "lambda_par = 1.7e-9  # in m^2/s\n",
    "lambda_iso = 2.5e-9 \n",
    "f_stick = 0.3\n",
    "parameter_vector = ballstick_mod.parameters_to_parameter_vector(C1Stick_1_mu = mu, \\\n",
    "                                                              C1Stick_1_lambda_par=lambda_par, \\\n",
    "                                                              G1Ball_1_lambda_iso=lambda_iso, \\\n",
    "                                                              partial_volume_0 = f_stick, \\\n",
    "                                                              partial_volume_1 = 1 - f_stick)\n",
    "\n",
    "#make parameter vectors and simulate some data\n",
    "ballstick_mod.parameter_ranges"
   ]
  },
  {
   "cell_type": "code",
   "execution_count": null,
   "metadata": {},
   "outputs": [],
   "source": [
    "theta_min = 0 \n",
    "theta_max = np.pi\n",
    "phi_min = -np.pi\n",
    "phi_max = np.pi\n",
    "lambda_par_min = 0.1e-9\n",
    "lambda_par_max = 3e-9\n",
    "lambda_iso_min = 0.1e-9\n",
    "lambda_iso_max = 3e-9\n",
    "f_stick_min = 0\n",
    "f_stick_max = 1\n",
    "\n",
    "nvox = 10000\n",
    " \n",
    "mu = np.concatenate((np.random.uniform(theta_min,theta_max,(1,n_samples)), np.random.uniform(phi_min,phi_max,(1,n_samples))))\n",
    "    \n",
    "#mu = (np.pi / 2., np.pi / 2.)  # in radians\n",
    "lambda_par = np.random.uniform(lambda_par_min,lambda_par_max,n_samples)  # in m^2/s\n",
    "\n",
    "lambda_iso = np.random.uniform(lambda_iso_min,lambda_iso_max,n_samples) \n",
    "\n",
    "f_stick = np.random.uniform(f_stick_min,f_stick_max,n_samples) \n",
    "\n",
    "simulated_signal = np.zeros((nvox, acq_scheme.number_of_measurements))\n",
    "\n",
    "\n",
    "\n",
    "for i in range(0,n_samples):\n",
    "    parameter_vector = ballstick_mod.parameters_to_parameter_vector(C1Stick_1_mu = mu[i], \\\n",
    "                                                              C1Stick_1_lambda_par=lambda_par[i], \\\n",
    "                                                              G1Ball_1_lambda_iso=lambda_iso[i], \\\n",
    "                                                              partial_volume_0 = f_stick[i], \\\n",
    "                                                              partial_volume_1 = 1 - f_stick[i])\n",
    "    \n",
    "    \n",
    "    simulated_signal[i,:] = ballstick_mod.simulate_signal(acq_scheme,parameter_vector)\n",
    "    \n",
    "\n"
   ]
  },
  {
   "cell_type": "code",
   "execution_count": null,
   "metadata": {},
   "outputs": [],
   "source": [
    "parameter_vector[5]"
   ]
  },
  {
   "cell_type": "code",
   "execution_count": null,
   "metadata": {},
   "outputs": [],
   "source": [
    "plt.plot(simulated_signal[100,:],'o')\n",
    "\n"
   ]
  },
  {
   "cell_type": "code",
   "execution_count": null,
   "metadata": {},
   "outputs": [],
   "source": [
    "def simulate_training_signals(model,acq_scheme, nvox):\n",
    "    #simulates training signals for a given dmipy model and acquisition scheme\n",
    "    #Returns training signals in \"unscaled\" format - i.e. close to 1, diffusivitys\n",
    "    #for example are in μm^2/ms\n",
    "    #model, acq_scheme are in dmipy model dictionary \n",
    "        \n",
    "    nparam = sum(ballstick_mod.parameter_cardinality.values())\n",
    "    \n",
    "    ground_truth_parameter_vector = np.zeros((nvox, nparam))\n",
    "    scaled_ground_truth_parameter_vector = np.zeros((nvox, nparam))\n",
    "        \n",
    "    j=0    \n",
    "    for param in model.parameter_names:                       \n",
    "        #simulate the ground truth parameter values\n",
    "        if model.parameter_cardinality[param] == 2:\n",
    "            param_0_min = model.parameter_ranges[param][0][0]\n",
    "            param_0_max = model.parameter_ranges[param][0][1]\n",
    "            param_1_min = model.parameter_ranges[param][1][0]\n",
    "            param_1_max = model.parameter_ranges[param][1][1]\n",
    "                        \n",
    "            param_0_scale = model.parameter_scales[param][0]\n",
    "            param_1_scale = model.parameter_scales[param][1]\n",
    "            \n",
    "            ground_truth_parameter_vector[:,j] = np.random.uniform(param_0_min,param_0_max,(1,nvox))\n",
    "            scaled_ground_truth_parameter_vector[:,j] = param_scale * np.random.uniform(param_0_min,param_0_max,(1,nvox))\n",
    "            j=j+1\n",
    "            ground_truth_parameter_vector[:,j] = np.random.uniform(param_1_min,param_1_max,(1,nvox))\n",
    "            scaled_ground_truth_parameter_vector[:,j] = param_scale * np.random.uniform(param_1_min,param_1_max,(1,nvox))\n",
    "            j=j+1\n",
    "        else:\n",
    "            param_min = model.parameter_ranges[param][0]\n",
    "            param_max = model.parameter_ranges[param][1]\n",
    "            \n",
    "            param_scale = model.parameter_scales[param]\n",
    "                            \n",
    "            ground_truth_parameter_vector[:,j] = np.random.uniform(param_min,param_max,(1,nvox))\n",
    "            scaled_ground_truth_parameter_vector[:,j] = param_scale * ground_truth_parameter_vector[:,j]\n",
    "            j=j+1\n",
    "    \n",
    "    #convert the ground truth parameter values into \n",
    "    \n",
    "    training_signals = model.simulate_signal(acq_scheme,scaled_ground_truth_parameter_vector)\n",
    "\n",
    "    return training_signals, ground_truth_parameter_vector         \n",
    "        \n",
    "            "
   ]
  },
  {
   "cell_type": "code",
   "execution_count": null,
   "metadata": {},
   "outputs": [],
   "source": [
    "simulated_signal,gt_param_vec = simulate_training_signals(ballstick_mod,acq_scheme,10000)\n",
    "\n"
   ]
  },
  {
   "cell_type": "code",
   "execution_count": null,
   "metadata": {},
   "outputs": [],
   "source": [
    "np.shape(simulated_signal)"
   ]
  },
  {
   "cell_type": "code",
   "execution_count": null,
   "metadata": {},
   "outputs": [],
   "source": [
    "plt.plot(simulated_signal[2,:],'o')"
   ]
  },
  {
   "cell_type": "code",
   "execution_count": null,
   "metadata": {},
   "outputs": [],
   "source": [
    "ballstick_mod.parameter_ranges"
   ]
  },
  {
   "cell_type": "code",
   "execution_count": null,
   "metadata": {},
   "outputs": [],
   "source": [
    "ballstick_mod.parameter_scales['G1Ball_1_lambda_iso']"
   ]
  },
  {
   "cell_type": "code",
   "execution_count": null,
   "metadata": {},
   "outputs": [],
   "source": []
  }
 ],
 "metadata": {
  "kernelspec": {
   "display_name": "Python 3.10.6 ('.venv': venv)",
   "language": "python",
   "name": "python3"
  },
  "language_info": {
   "codemirror_mode": {
    "name": "ipython",
    "version": 3
   },
   "file_extension": ".py",
   "mimetype": "text/x-python",
   "name": "python",
   "nbconvert_exporter": "python",
   "pygments_lexer": "ipython3",
   "version": "3.10.6"
  },
  "vscode": {
   "interpreter": {
    "hash": "1ca6ec867e98636ca0c4c75c3da984a3329c9a5ee8b915c41f07d90eaab86bba"
   }
  }
 },
 "nbformat": 4,
 "nbformat_minor": 2
}
