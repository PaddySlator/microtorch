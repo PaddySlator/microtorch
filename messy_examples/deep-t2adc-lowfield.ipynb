{
 "cells": [
  {
   "cell_type": "code",
   "execution_count": 1,
   "metadata": {},
   "outputs": [
    {
     "name": "stderr",
     "output_type": "stream",
     "text": [
      "/Users/paddyslator/python/self-qmri/.venv/lib/python3.10/site-packages/tqdm/auto.py:22: TqdmWarning: IProgress not found. Please update jupyter and ipywidgets. See https://ipywidgets.readthedocs.io/en/stable/user_install.html\n",
      "  from .autonotebook import tqdm as notebook_tqdm\n"
     ]
    }
   ],
   "source": [
    "# fit.py\n",
    "import argparse\n",
    "import numpy as np\n",
    "import nibabel as nib\n",
    "import torch\n",
    "import torch.nn as nn\n",
    "import torch.optim as optim\n",
    "import torch.utils.data as utils\n",
    "from tqdm import tqdm      \n",
    "import matplotlib.pyplot as plt      "
   ]
  },
  {
   "cell_type": "code",
   "execution_count": 2,
   "metadata": {},
   "outputs": [],
   "source": [
    "DATADIR = '/Users/paddyslator/Library/CloudStorage/OneDrive-UniversityCollegeLondon/data/low-field-placenta/scans/'\n",
    "\n",
    "\n",
    "imgfilename = 'fm0034_ep2d_diff_zebr_g2_allb_denoised.nii.gz'\n",
    "imgfilename = 'fm0037_ep2d_diff_zebr_g2_allb_denoised.nii.gz'\n",
    "#imgfilename = 'fm0038_ep2d_diff_zebr_g2_allb_denoised.nii.gz'\n",
    "#imgfilename = 'fm0039_ep2d_diff_zebr_g2_allb_denoised.nii.gz'\n",
    "#imgfilename = 'fm0044_ep2d_diff_zebr_g2_allb_denoised.nii.gz'\n",
    "\n",
    "gradfilename = 'grad_echo_fm0034.txt'\n",
    "#gradfilename = 'grad_echo_fm0037.txt'\n",
    "#gradfilename = 'grad_echo_fm0038.txt'\n",
    "#gradfilename = 'grad_echo_fm0044.txt'\n",
    "#gradfilename = 'grad_echo_fm0039.txt'\n",
    "\n",
    "maskfilename = 'fm0034_ep2d_diff_zebr_g2_allb_placenta_and_uterine_wall_mask_pjs.nii.gz'\n",
    "maskfilename = 'fm0037_ep2d_diff_zebr_g2_allb_placenta_and_uterine_wall_mask_pjs.nii.gz'\n",
    "#maskfilename = 'fm0038_ep2d_diff_zebr_g2_allb_placenta_and_uterine_wall_mask_pjs.nii.gz'\n",
    "#maskfilename = 'fm0039_ep2d_diff_zebr_g2_allb_placenta_and_uterine_wall_mask_pjs.nii.gz'\n",
    "#maskfilename = 'fm0044_ep2d_diff_zebr_g2_allb_placenta_and_uterine_wall_mask_pjs.nii.gz'\n",
    "\n",
    "\n",
    "imgnii = nib.load(DATADIR + imgfilename)\n",
    "img = imgnii.get_fdata()\n",
    "\n",
    "masknii = nib.load(DATADIR + maskfilename)\n",
    "mask = masknii.get_fdata()\n",
    "\n",
    "grad = np.loadtxt(DATADIR + gradfilename)\n",
    "\n",
    "#scale the grad file\n",
    "grad[:,3] = 1e-3*grad[:,3]\n",
    "grad[:,4] = 1e-3*grad[:,4]\n",
    "\n",
    "\n"
   ]
  },
  {
   "cell_type": "code",
   "execution_count": 3,
   "metadata": {},
   "outputs": [
    {
     "data": {
      "text/plain": [
       "array([[ 0.     ,  0.     ,  0.     ,  0.     ,  0.117  ],\n",
       "       [ 0.     ,  0.     ,  0.     ,  0.     ,  0.16101],\n",
       "       [ 0.     ,  0.     ,  0.     ,  0.     ,  0.20502],\n",
       "       [-1.     , -0.     , -0.     ,  0.05   ,  0.117  ],\n",
       "       [-0.     , -0.     , -1.     ,  0.05   ,  0.117  ],\n",
       "       [ 0.     ,  1.     , -0.     ,  0.05   ,  0.117  ],\n",
       "       [-1.     , -0.     , -0.     ,  0.05   ,  0.16101],\n",
       "       [-0.     , -0.     , -1.     ,  0.05   ,  0.16101],\n",
       "       [ 0.     ,  1.     , -0.     ,  0.05   ,  0.16101],\n",
       "       [-1.     , -0.     , -0.     ,  0.05   ,  0.20502],\n",
       "       [-0.     , -0.     , -1.     ,  0.05   ,  0.20502],\n",
       "       [ 0.     ,  1.     , -0.     ,  0.05   ,  0.20502],\n",
       "       [-1.     , -0.     , -0.     ,  0.1    ,  0.117  ],\n",
       "       [-0.     , -0.     , -1.     ,  0.1    ,  0.117  ],\n",
       "       [ 0.     ,  1.     , -0.     ,  0.1    ,  0.117  ],\n",
       "       [-1.     , -0.     , -0.     ,  0.1    ,  0.16101],\n",
       "       [-0.     , -0.     , -1.     ,  0.1    ,  0.16101],\n",
       "       [ 0.     ,  1.     , -0.     ,  0.1    ,  0.16101],\n",
       "       [-1.     , -0.     , -0.     ,  0.1    ,  0.20502],\n",
       "       [-0.     , -0.     , -1.     ,  0.1    ,  0.20502],\n",
       "       [ 0.     ,  1.     , -0.     ,  0.1    ,  0.20502],\n",
       "       [-1.     , -0.     , -0.     ,  0.3    ,  0.117  ],\n",
       "       [-0.     , -0.     , -1.     ,  0.3    ,  0.117  ],\n",
       "       [ 0.     ,  1.     , -0.     ,  0.3    ,  0.117  ],\n",
       "       [-1.     , -0.     , -0.     ,  0.3    ,  0.16101],\n",
       "       [-0.     , -0.     , -1.     ,  0.3    ,  0.16101],\n",
       "       [ 0.     ,  1.     , -0.     ,  0.3    ,  0.16101],\n",
       "       [-1.     , -0.     , -0.     ,  0.3    ,  0.20502],\n",
       "       [-0.     , -0.     , -1.     ,  0.3    ,  0.20502],\n",
       "       [ 0.     ,  1.     , -0.     ,  0.3    ,  0.20502],\n",
       "       [-1.     , -0.     , -0.     ,  0.5    ,  0.117  ],\n",
       "       [-0.     , -0.     , -1.     ,  0.5    ,  0.117  ],\n",
       "       [ 0.     ,  1.     , -0.     ,  0.5    ,  0.117  ],\n",
       "       [-1.     , -0.     , -0.     ,  0.5    ,  0.16101],\n",
       "       [-0.     , -0.     , -1.     ,  0.5    ,  0.16101],\n",
       "       [ 0.     ,  1.     , -0.     ,  0.5    ,  0.16101],\n",
       "       [-1.     , -0.     , -0.     ,  0.5    ,  0.20502],\n",
       "       [-0.     , -0.     , -1.     ,  0.5    ,  0.20502],\n",
       "       [ 0.     ,  1.     , -0.     ,  0.5    ,  0.20502],\n",
       "       [-1.     , -0.     , -0.     ,  0.     ,  0.117  ],\n",
       "       [-0.     , -0.     , -1.     ,  0.     ,  0.117  ],\n",
       "       [ 0.     ,  1.     , -0.     ,  0.     ,  0.117  ],\n",
       "       [-1.     , -0.     , -0.     ,  0.     ,  0.16101],\n",
       "       [-0.     , -0.     , -1.     ,  0.     ,  0.16101],\n",
       "       [ 0.     ,  1.     , -0.     ,  0.     ,  0.16101],\n",
       "       [-1.     , -0.     , -0.     ,  0.     ,  0.20502],\n",
       "       [-0.     , -0.     , -1.     ,  0.     ,  0.20502],\n",
       "       [ 0.     ,  1.     , -0.     ,  0.     ,  0.20502],\n",
       "       [-1.     , -0.     , -0.     ,  0.75   ,  0.117  ],\n",
       "       [-0.     , -0.     , -1.     ,  0.75   ,  0.117  ],\n",
       "       [ 0.     ,  1.     , -0.     ,  0.75   ,  0.117  ],\n",
       "       [-1.     , -0.     , -0.     ,  0.75   ,  0.16101],\n",
       "       [-0.     , -0.     , -1.     ,  0.75   ,  0.16101],\n",
       "       [ 0.     ,  1.     , -0.     ,  0.75   ,  0.16101],\n",
       "       [-1.     , -0.     , -0.     ,  0.75   ,  0.20502],\n",
       "       [-0.     , -0.     , -1.     ,  0.75   ,  0.20502],\n",
       "       [ 0.     ,  1.     , -0.     ,  0.75   ,  0.20502],\n",
       "       [-1.     , -0.     , -0.     ,  1.     ,  0.117  ],\n",
       "       [-0.     , -0.     , -1.     ,  1.     ,  0.117  ],\n",
       "       [ 0.     ,  1.     , -0.     ,  1.     ,  0.117  ],\n",
       "       [-1.     , -0.     , -0.     ,  1.     ,  0.16101],\n",
       "       [-0.     , -0.     , -1.     ,  1.     ,  0.16101],\n",
       "       [ 0.     ,  1.     , -0.     ,  1.     ,  0.16101],\n",
       "       [-1.     , -0.     , -0.     ,  1.     ,  0.20502],\n",
       "       [-0.     , -0.     , -1.     ,  1.     ,  0.20502],\n",
       "       [ 0.     ,  1.     , -0.     ,  1.     ,  0.20502]])"
      ]
     },
     "execution_count": 3,
     "metadata": {},
     "output_type": "execute_result"
    }
   ],
   "source": [
    "grad"
   ]
  },
  {
   "cell_type": "code",
   "execution_count": 4,
   "metadata": {},
   "outputs": [],
   "source": [
    "#preprocess data\n",
    "from utilities.preprocessing import direction_average\n",
    "\n",
    "#take the spherical mean\n",
    "da_img,da_grad = direction_average(img,grad)\n",
    "\n"
   ]
  },
  {
   "cell_type": "code",
   "execution_count": 5,
   "metadata": {},
   "outputs": [],
   "source": [
    "# #save the direction averaged image as nifti\n",
    "# da_img_nii = imgnii\n",
    "# da_img_nii.header = \n",
    "#imgnii.header['dim'][4]"
   ]
  },
  {
   "cell_type": "code",
   "execution_count": 6,
   "metadata": {},
   "outputs": [],
   "source": [
    "#preprocess for machine learning! MAKE A FUNCTION OF THIS!\n",
    "\n",
    "def img2voxel(img,mask):\n",
    "    nvoxtotal = np.prod(np.shape(img)[0:3])\n",
    "    nvol = np.shape(img)[3]\n",
    "    #image in voxel format\n",
    "    imgvox = np.reshape(img,(nvoxtotal,nvol))\n",
    "    #mask in voxel format\n",
    "    maskvox = np.reshape(mask,(nvoxtotal))\n",
    "    #extract the voxels in the mask\n",
    "    X_train = imgvox[maskvox==1]    \n",
    "    \n",
    "    return X_train,maskvox\n",
    "\n",
    "\n",
    "X_train,maskvox = img2voxel(da_img,mask)\n",
    "\n",
    "# nvoxtotal = np.prod(np.shape(img)[0:3])\n",
    "# nvol = np.shape(img)[3]\n",
    "# #image in voxel format\n",
    "# imgvox = np.reshape(img,(nvoxtotal,nvol))\n",
    "# #mask in voxel format\n",
    "# maskvox = np.reshape(mask,(nvoxtotal))\n",
    "# #extract the voxels in the mask\n",
    "# X_train = imgvox[maskvox==1]\n",
    "\n",
    "def normalise(X_train,grad):\n",
    "    nvol = np.shape(grad)[0]\n",
    "    \n",
    "    #normalise \n",
    "    #find the volumes to normalise by - the lowest b-value lowest TE volume\n",
    "    normvol = np.where((grad[:,3]==min(grad[:,3])) & (grad[:,4]==min(grad[:,4])))\n",
    "\n",
    "    #X_train = X_train/(np.tile(np.mean(X_train[:,normvol], axis=2),(1, nvol)))\n",
    "    X_train = X_train/(np.tile(np.mean(X_train[:,normvol], axis=1),(1, nvol)))\n",
    "    \n",
    "    return X_train\n",
    "\n",
    "\n",
    "X_train = normalise(X_train,da_grad)\n",
    "    "
   ]
  },
  {
   "cell_type": "code",
   "execution_count": 7,
   "metadata": {},
   "outputs": [],
   "source": [
    "nparams = 3\n",
    "#define the neural network - change to import this from elsewhere! \n",
    "class Net(nn.Module):\n",
    "    def __init__(self, grad, nparams): #PASS MODEL STRING AS AN ARGUMENT IN HERE!\n",
    "        super(Net, self).__init__()\n",
    "\n",
    "        self.grad = grad\n",
    "        self.fc_layers = nn.ModuleList()\n",
    "        \n",
    "        for i in range(nparams): # 3 fully connected hidden layers\n",
    "            self.fc_layers.extend([nn.Linear(grad.size(0), grad.size(0)), nn.ReLU()])\n",
    "        self.encoder = nn.Sequential(*self.fc_layers, nn.Linear(grad.size(0), nparams))\n",
    "        self.dropout = nn.Dropout(0.5)\n",
    "\n",
    "    def forward(self, X):\n",
    "        params = torch.abs(self.encoder(X)) # Dp, Dt, Fp\n",
    "        D = torch.clamp(params[:, 0].unsqueeze(1), min = 0.01, max = 30)\n",
    "        T2 = torch.clamp(params[:, 1].unsqueeze(1), min=0.001, max=1)\n",
    "        #D = params[:, 0].unsqueeze(1)\n",
    "        #T2 = params[:, 1].unsqueeze(1)\n",
    "        bvals = self.grad[:,3]\n",
    "        TE = self.grad[:,4]\n",
    "        \n",
    "        X = torch.exp(-bvals*D) * torch.exp(-(TE - torch.min(TE))/T2) \n",
    "\n",
    "        return X, D, T2\n"
   ]
  },
  {
   "cell_type": "code",
   "execution_count": 8,
   "metadata": {},
   "outputs": [],
   "source": [
    "\n",
    "# make the Network\n",
    "grad = torch.FloatTensor(da_grad)\n",
    "net = Net(grad, nparams)\n",
    "\n",
    "# Loss function and optimizer\n",
    "criterion = nn.MSELoss()\n",
    "optimizer = optim.Adam(net.parameters(), lr = 0.0001)  \n",
    "#optimizer = optim.SGD(net.parameters(), lr = 0.01)  \n",
    "\n",
    "\n",
    "#create batch queues\n",
    "batch_size = 128\n",
    "num_batches = len(X_train) // batch_size\n",
    "\n",
    "#X_train = X_train[:,1:] # exlude the b=0 value as signals are normalized\n",
    "\n",
    "trainloader = utils.DataLoader(torch.from_numpy(X_train.astype(np.float32)),\n",
    "                            batch_size = batch_size, \n",
    "                            shuffle = True,\n",
    "                            num_workers = 2,\n",
    "                            drop_last = True)\n"
   ]
  },
  {
   "cell_type": "code",
   "execution_count": 9,
   "metadata": {},
   "outputs": [
    {
     "name": "stdout",
     "output_type": "stream",
     "text": [
      "-----------------------------------------------------------------\n",
      "Epoch: 0; Bad epochs: 0\n"
     ]
    },
    {
     "name": "stderr",
     "output_type": "stream",
     "text": [
      "100%|██████████| 97/97 [00:01<00:00, 80.21it/s]\n"
     ]
    },
    {
     "name": "stdout",
     "output_type": "stream",
     "text": [
      "Loss: 10.762768924236298\n",
      "############### Saving good model ###############################\n",
      "-----------------------------------------------------------------\n",
      "Epoch: 1; Bad epochs: 0\n"
     ]
    },
    {
     "name": "stderr",
     "output_type": "stream",
     "text": [
      "100%|██████████| 97/97 [00:00<00:00, 107.65it/s]\n"
     ]
    },
    {
     "name": "stdout",
     "output_type": "stream",
     "text": [
      "Loss: 9.708706445991993\n",
      "############### Saving good model ###############################\n",
      "-----------------------------------------------------------------\n",
      "Epoch: 2; Bad epochs: 0\n"
     ]
    },
    {
     "name": "stderr",
     "output_type": "stream",
     "text": [
      "100%|██████████| 97/97 [00:00<00:00, 115.71it/s]\n"
     ]
    },
    {
     "name": "stdout",
     "output_type": "stream",
     "text": [
      "Loss: 8.648502610623837\n",
      "############### Saving good model ###############################\n",
      "-----------------------------------------------------------------\n",
      "Epoch: 3; Bad epochs: 0\n"
     ]
    },
    {
     "name": "stderr",
     "output_type": "stream",
     "text": [
      "100%|██████████| 97/97 [00:00<00:00, 113.53it/s]\n"
     ]
    },
    {
     "name": "stdout",
     "output_type": "stream",
     "text": [
      "Loss: 7.721125543117523\n",
      "############### Saving good model ###############################\n",
      "-----------------------------------------------------------------\n",
      "Epoch: 4; Bad epochs: 0\n"
     ]
    },
    {
     "name": "stderr",
     "output_type": "stream",
     "text": [
      "100%|██████████| 97/97 [00:00<00:00, 110.63it/s]\n"
     ]
    },
    {
     "name": "stdout",
     "output_type": "stream",
     "text": [
      "Loss: 7.013175584375858\n",
      "############### Saving good model ###############################\n",
      "-----------------------------------------------------------------\n",
      "Epoch: 5; Bad epochs: 0\n"
     ]
    },
    {
     "name": "stderr",
     "output_type": "stream",
     "text": [
      "100%|██████████| 97/97 [00:00<00:00, 105.43it/s]\n"
     ]
    },
    {
     "name": "stdout",
     "output_type": "stream",
     "text": [
      "Loss: 6.696401834487915\n",
      "############### Saving good model ###############################\n",
      "-----------------------------------------------------------------\n",
      "Epoch: 6; Bad epochs: 0\n"
     ]
    },
    {
     "name": "stderr",
     "output_type": "stream",
     "text": [
      "  0%|          | 0/97 [00:00<?, ?it/s]"
     ]
    },
    {
     "name": "stdout",
     "output_type": "stream",
     "text": [
      "Unexpected exception formatting exception. Falling back to standard exception\n"
     ]
    },
    {
     "name": "stderr",
     "output_type": "stream",
     "text": [
      "Fatal Python error: init_sys_streams: can't initialize sys standard streams\n",
      "Python runtime state: core initialized\n",
      "\n",
      "Traceback (most recent call last):\n",
      "  File \"<frozen importlib._bootstrap>\", line 1027, in _find_and_load\n",
      "Fatal Python error: init_import_site: Failed to import the site module\n",
      "Python runtime state: initialized\n",
      "Traceback (most recent call last):\n",
      "  File \"/Users/paddyslator/.pyenv/versions/3.10.6/lib/python3.10/site.py\", line 73, in <module>\n",
      "  File \"<frozen importlib._bootstrap>\", line 1006, in _find_and_load_unlocked\n",
      "  File \"<frozen importlib._bootstrap>\", line 688, in _load_unlocked\n",
      "  File \"<frozen importlib._bootstrap_external>\", line 879, in exec_module\n",
      "  File \"<frozen importlib._bootstrap_external>\", line 975, in get_code\n",
      "  File \"<frozen importlib._bootstrap_external>\", line 1074, in get_data\n",
      "KeyboardInterrupt\n",
      "    import os\n",
      "  File \"/Users/paddyslator/.pyenv/versions/3.10.6/lib/python3.10/os.py\", line 61, in <module>\n",
      "    import posixpath as path\n",
      "  File \"/Users/paddyslator/.pyenv/versions/3.10.6/lib/python3.10/posixpath.py\", line 28, in <module>\n",
      "    import genericpath\n",
      "  File \"<frozen importlib._bootstrap>\", line 1027, in _find_and_load\n",
      "  File \"<frozen importlib._bootstrap>\", line 1006, in _find_and_load_unlocked\n",
      "  File \"<frozen importlib._bootstrap>\", line 688, in _load_unlocked\n",
      "  File \"<frozen importlib._bootstrap_external>\", line 879, in exec_module\n",
      "  File \"<frozen importlib._bootstrap_external>\", line 975, in get_code\n",
      "  File \"<frozen importlib._bootstrap_external>\", line 1074, in get_data\n",
      "KeyboardInterrupt\n",
      "Traceback (most recent call last):\n",
      "  File \"/Users/paddyslator/python/self-qmri/.venv/lib/python3.10/site-packages/IPython/core/interactiveshell.py\", line 3398, in run_code\n",
      "    exec(code_obj, self.user_global_ns, self.user_ns)\n",
      "  File \"/var/folders/q9/yt6f867d3zq18ksrj75kk1fc0000gn/T/ipykernel_18045/4246362577.py\", line 14, in <cell line: 8>\n",
      "    for i, X_batch in enumerate(tqdm(trainloader), 0):\n",
      "  File \"/Users/paddyslator/python/self-qmri/.venv/lib/python3.10/site-packages/tqdm/std.py\", line 1195, in __iter__\n",
      "    for obj in iterable:\n",
      "  File \"/Users/paddyslator/python/self-qmri/.venv/lib/python3.10/site-packages/torch/utils/data/dataloader.py\", line 681, in __next__\n",
      "    data = self._next_data()\n",
      "  File \"/Users/paddyslator/python/self-qmri/.venv/lib/python3.10/site-packages/torch/utils/data/dataloader.py\", line 1359, in _next_data\n",
      "    idx, data = self._get_data()\n",
      "  File \"/Users/paddyslator/python/self-qmri/.venv/lib/python3.10/site-packages/torch/utils/data/dataloader.py\", line 1325, in _get_data\n",
      "    success, data = self._try_get_data()\n",
      "  File \"/Users/paddyslator/python/self-qmri/.venv/lib/python3.10/site-packages/torch/utils/data/dataloader.py\", line 1163, in _try_get_data\n",
      "    data = self._data_queue.get(timeout=timeout)\n",
      "  File \"/Users/paddyslator/.pyenv/versions/3.10.6/lib/python3.10/multiprocessing/queues.py\", line 113, in get\n",
      "    if not self._poll(timeout):\n",
      "  File \"/Users/paddyslator/.pyenv/versions/3.10.6/lib/python3.10/multiprocessing/connection.py\", line 262, in poll\n",
      "    return self._poll(timeout)\n",
      "  File \"/Users/paddyslator/.pyenv/versions/3.10.6/lib/python3.10/multiprocessing/connection.py\", line 429, in _poll\n",
      "    r = wait([self], timeout)\n",
      "  File \"/Users/paddyslator/.pyenv/versions/3.10.6/lib/python3.10/multiprocessing/connection.py\", line 936, in wait\n",
      "    ready = selector.select(timeout)\n",
      "  File \"/Users/paddyslator/.pyenv/versions/3.10.6/lib/python3.10/selectors.py\", line 416, in select\n",
      "    fd_event_list = self._selector.poll(timeout)\n",
      "KeyboardInterrupt\n",
      "\n",
      "During handling of the above exception, another exception occurred:\n",
      "\n",
      "Traceback (most recent call last):\n",
      "  File \"/Users/paddyslator/python/self-qmri/.venv/lib/python3.10/site-packages/IPython/core/interactiveshell.py\", line 1993, in showtraceback\n",
      "    stb = self.InteractiveTB.structured_traceback(\n",
      "  File \"/Users/paddyslator/python/self-qmri/.venv/lib/python3.10/site-packages/IPython/core/ultratb.py\", line 1118, in structured_traceback\n",
      "    return FormattedTB.structured_traceback(\n",
      "  File \"/Users/paddyslator/python/self-qmri/.venv/lib/python3.10/site-packages/IPython/core/ultratb.py\", line 1012, in structured_traceback\n",
      "    return VerboseTB.structured_traceback(\n",
      "  File \"/Users/paddyslator/python/self-qmri/.venv/lib/python3.10/site-packages/IPython/core/ultratb.py\", line 865, in structured_traceback\n",
      "    formatted_exception = self.format_exception_as_a_whole(etype, evalue, etb, number_of_lines_of_context,\n",
      "  File \"/Users/paddyslator/python/self-qmri/.venv/lib/python3.10/site-packages/IPython/core/ultratb.py\", line 799, in format_exception_as_a_whole\n",
      "    self.get_records(etb, number_of_lines_of_context, tb_offset) if etb else []\n",
      "  File \"/Users/paddyslator/python/self-qmri/.venv/lib/python3.10/site-packages/IPython/core/ultratb.py\", line 844, in get_records\n",
      "    style = get_style_by_name(\"default\")\n",
      "  File \"/Users/paddyslator/python/self-qmri/.venv/lib/python3.10/site-packages/pygments/styles/__init__.py\", line 82, in get_style_by_name\n",
      "    mod = __import__('pygments.styles.' + mod, None, None, [cls])\n",
      "  File \"<frozen importlib._bootstrap>\", line 1027, in _find_and_load\n",
      "  File \"<frozen importlib._bootstrap>\", line 1002, in _find_and_load_unlocked\n",
      "  File \"<frozen importlib._bootstrap>\", line 945, in _find_spec\n",
      "  File \"<frozen importlib._bootstrap_external>\", line 1439, in find_spec\n",
      "  File \"<frozen importlib._bootstrap_external>\", line 1411, in _get_spec\n",
      "  File \"<frozen importlib._bootstrap_external>\", line 1577, in find_spec\n",
      "  File \"<frozen importlib._bootstrap_external>\", line 161, in _path_isfile\n",
      "  File \"<frozen importlib._bootstrap_external>\", line 153, in _path_is_mode_type\n",
      "  File \"<frozen importlib._bootstrap_external>\", line 147, in _path_stat\n",
      "  File \"/Users/paddyslator/python/self-qmri/.venv/lib/python3.10/site-packages/torch/utils/data/_utils/signal_handling.py\", line 66, in handler\n",
      "    _error_if_any_worker_fails()\n",
      "RuntimeError: DataLoader worker (pid 18084) exited unexpectedly with exit code 1. Details are lost due to multiprocessing. Rerunning with num_workers=0 may give better error trace.\n"
     ]
    }
   ],
   "source": [
    "# Best loss\n",
    "best = 1e16\n",
    "num_bad_epochs = 0\n",
    "patience = 10\n",
    "\n",
    "                \n",
    "# Train\n",
    "for epoch in range(100): \n",
    "    print(\"-----------------------------------------------------------------\")\n",
    "    print(\"Epoch: {}; Bad epochs: {}\".format(epoch, num_bad_epochs))\n",
    "    net.train()\n",
    "    running_loss = 0.\n",
    "\n",
    "    for i, X_batch in enumerate(tqdm(trainloader), 0):\n",
    "        # zero the parameter gradients\n",
    "        optimizer.zero_grad()\n",
    "\n",
    "        # forward + backward + optimize\n",
    "        #X_pred, Dp_pred, Dt_pred, Fp_pred = net(X_batch)\n",
    "        X_pred, D_pred, T2_pred = net(X_batch)\n",
    "        loss = criterion(X_pred, X_batch)\n",
    "        loss.backward()\n",
    "        optimizer.step()\n",
    "        running_loss += loss.item()\n",
    "    \n",
    "    print(\"Loss: {}\".format(running_loss))\n",
    "    # early stopping\n",
    "    if running_loss < best:\n",
    "        print(\"############### Saving good model ###############################\")\n",
    "        final_model = net.state_dict()\n",
    "        best = running_loss\n",
    "        num_bad_epochs = 0\n",
    "    else:\n",
    "        num_bad_epochs = num_bad_epochs + 1\n",
    "        if num_bad_epochs == patience:\n",
    "            print(\"Done, best loss: {}\".format(best))\n",
    "            break\n",
    "print(\"Done\")\n",
    "# Restore best model\n",
    "net.load_state_dict(final_model)"
   ]
  },
  {
   "cell_type": "code",
   "execution_count": null,
   "metadata": {},
   "outputs": [],
   "source": [
    "#Inference\n",
    "net.eval()\n",
    "with torch.no_grad():\n",
    "    X, D, T2 = net(torch.from_numpy(X_train.astype(np.float32)))\n",
    "    \n",
    "D = D.numpy()\n",
    "T2 = T2.numpy()\n",
    "\n",
    "\n",
    "#convert parameters back to image format\n",
    "D_vox = np.zeros(np.shape(maskvox))\n",
    "D_vox[maskvox==1] = np.squeeze(D[:])\n",
    "D_map = np.reshape(D_vox,np.shape(mask))\n",
    "\n",
    "T2_vox = np.zeros(np.shape(maskvox))\n",
    "T2_vox[maskvox==1] = np.squeeze(T2[:])\n",
    "T2_map = np.reshape(T2_vox,np.shape(mask))\n",
    "\n"
   ]
  },
  {
   "cell_type": "code",
   "execution_count": null,
   "metadata": {},
   "outputs": [],
   "source": [
    "#rotate images\n",
    "from scipy import ndimage\n",
    "\n",
    "D_map = ndimage.rotate(D_map,90,reshape=False)\n",
    "T2_map = ndimage.rotate(T2_map,90,reshape=False)\n",
    "\n"
   ]
  },
  {
   "cell_type": "code",
   "execution_count": null,
   "metadata": {},
   "outputs": [
    {
     "data": {
      "text/plain": [
       "(-0.5, 99.5, 99.5, -0.5)"
      ]
     },
     "execution_count": 164,
     "metadata": {},
     "output_type": "execute_result"
    },
    {
     "data": {
      "image/png": "[encoded data removed]",
      "text/plain": [
       "<Figure size 1000x500 with 4 Axes>"
      ]
     },
     "metadata": {},
     "output_type": "display_data"
    }
   ],
   "source": [
    "import matplotlib.pyplot as plt\n",
    "fig, ax = plt.subplots(1, 2, figsize=(10,5))\n",
    "\n",
    "zslice=30\n",
    "\n",
    "plt0 = ax[0].imshow(D_map[:,:,zslice],vmin=0,vmax=5)\n",
    "plt.colorbar(plt0,ax=ax[0])\n",
    "ax[0].xaxis.set_ticklabels([]) \n",
    "ax[0].set_title('diffusivity ($\\mu$m$^2$/ms)')\n",
    "#ax[0].set_title('diffusivity (mm$^2$/ms)')\n",
    "ax[0].axis('off')\n",
    "\n",
    "plt0 = ax[1].imshow(T2_map[:,:,zslice],cmap='hot')\n",
    "plt.colorbar(plt0,ax=ax[1])    \n",
    "ax[1].xaxis.set_ticklabels([]) \n",
    "ax[1].set_title('T2* (s)')\n",
    "ax[1].axis('off')\n",
    "    \n",
    "    \n",
    "    "
   ]
  },
  {
   "cell_type": "code",
   "execution_count": null,
   "metadata": {},
   "outputs": [],
   "source": [
    "#save the inferred maps as niftis\n",
    "maps = np.stack((D_map, T2_map),axis=-1)\n",
    "\n",
    "#use the image as a template\n",
    "mapsnii = nib.Nifti1Image(maps, affine=imgnii.affine,header=imgnii.header)\n",
    "#adjust 4th spatial dimension\n",
    "mapsnii.header['dim'][4] = np.shape(maps)[-1]\n",
    "\n",
    "nib.save(mapsnii, DATADIR + imgfilename[0:-7] + '_DT2_maps.nii.gz')  \n",
    "\n",
    "#grad = np.loadtxt(args.grad[0])"
   ]
  },
  {
   "cell_type": "code",
   "execution_count": null,
   "metadata": {},
   "outputs": [
    {
     "data": {
      "text/plain": [
       "[<matplotlib.lines.Line2D at 0x169c5a920>]"
      ]
     },
     "execution_count": 154,
     "metadata": {},
     "output_type": "execute_result"
    },
    {
     "data": {
      "image/png": "[encoded data removed]",
      "text/plain": [
       "<Figure size 640x480 with 1 Axes>"
      ]
     },
     "metadata": {},
     "output_type": "display_data"
    }
   ],
   "source": [
    "plt.plot(grad[:,3],X_train[250,:],'o')\n",
    "plt.plot(grad[:,3],X[250,:],'x')"
   ]
  },
  {
   "cell_type": "code",
   "execution_count": null,
   "metadata": {},
   "outputs": [],
   "source": []
  }
 ],
 "metadata": {
  "kernelspec": {
   "display_name": "leap_env",
   "language": "python",
   "name": "python3"
  },
  "language_info": {
   "codemirror_mode": {
    "name": "ipython",
    "version": 3
   },
   "file_extension": ".py",
   "mimetype": "text/x-python",
   "name": "python",
   "nbconvert_exporter": "python",
   "pygments_lexer": "ipython3",
   "version": "3.10.6"
  },
  "orig_nbformat": 4,
  "vscode": {
   "interpreter": {
    "hash": "498bbd8c7938e99a33e9c91068908c960cc601ab072a6c1d1303e43d7a4cff19"
   }
  }
 },
 "nbformat": 4,
 "nbformat_minor": 2
}
