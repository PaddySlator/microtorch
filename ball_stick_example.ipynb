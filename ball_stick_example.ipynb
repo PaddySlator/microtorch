{
 "cells": [
  {
   "cell_type": "markdown",
   "metadata": {},
   "source": [
    "MicroTorch Example\n",
    "\n",
    "Simulates data from the ball-stick model\n"
   ]
  },
  {
   "cell_type": "code",
   "execution_count": null,
   "metadata": {},
   "outputs": [],
   "source": [
    "import numpy as np\n",
    "import torch"
   ]
  },
  {
   "cell_type": "code",
   "execution_count": null,
   "metadata": {},
   "outputs": [],
   "source": [
    "from data.load_data import load_grad"
   ]
  },
  {
   "cell_type": "code",
   "execution_count": null,
   "metadata": {},
   "outputs": [],
   "source": [
    "grad = load_grad('data/grad_files/grad_HCP.txt')\n",
    "\n",
    "#convert to microns^2/ms\n",
    "grad[:,3] = grad[:,3] * 1e-3"
   ]
  },
  {
   "cell_type": "code",
   "execution_count": null,
   "metadata": {},
   "outputs": [],
   "source": [
    "from signal_models import Ball \n",
    "from signal_models import Stick\n",
    "\n"
   ]
  },
  {
   "cell_type": "code",
   "execution_count": null,
   "metadata": {},
   "outputs": [],
   "source": [
    "#initialise ball and stick compartments\n",
    "ball = Ball()\n",
    "stick = Stick()"
   ]
  },
  {
   "cell_type": "code",
   "execution_count": null,
   "metadata": {},
   "outputs": [],
   "source": [
    "\n",
    "\n",
    "f = 0.3 \n",
    "Dpar = 2 \n",
    "D = 3\n",
    "theta = 0\n",
    "phi = np.pi\n",
    "\n",
    "ball_params = torch.tensor([D], dtype=torch.float32)\n",
    "ball_params = torch.unsqueeze(ball_params, dim=0)\n",
    "\n",
    "stick_params = torch.tensor([Dpar, theta, phi], dtype=torch.float32)\n",
    "stick_params = torch.unsqueeze(stick_params, dim=0)\n",
    "\n",
    "# Concatenate along dimension 1 (columns)\n",
    "params = torch.cat([ball_params, stick_params], dim=1)\n",
    "\n",
    "\n"
   ]
  },
  {
   "cell_type": "code",
   "execution_count": null,
   "metadata": {},
   "outputs": [],
   "source": [
    "from model_maker import ModelMaker\n",
    "\n",
    "ball_stick_fun = ModelMaker()\n",
    "    \n",
    "S = ball_stick_fun((ball,stick), grad, params, f)"
   ]
  },
  {
   "cell_type": "code",
   "execution_count": null,
   "metadata": {},
   "outputs": [],
   "source": [
    "import matplotlib.pyplot as plt\n",
    "plt.plot(grad[:,3],S[:,0],'o')"
   ]
  }
 ],
 "metadata": {
  "kernelspec": {
   "display_name": ".venv",
   "language": "python",
   "name": "python3"
  },
  "language_info": {
   "codemirror_mode": {
    "name": "ipython",
    "version": 3
   },
   "file_extension": ".py",
   "mimetype": "text/x-python",
   "name": "python",
   "nbconvert_exporter": "python",
   "pygments_lexer": "ipython3",
   "version": "3.10.6"
  },
  "orig_nbformat": 4
 },
 "nbformat": 4,
 "nbformat_minor": 2
}
