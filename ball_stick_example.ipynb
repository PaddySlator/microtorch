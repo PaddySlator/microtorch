{
 "cells": [
  {
   "cell_type": "markdown",
   "metadata": {},
   "source": [
    "MicroTorch Example\n",
    "\n",
    "Simulates data from the ball-stick model\n"
   ]
  },
  {
   "cell_type": "code",
   "execution_count": null,
   "metadata": {},
   "outputs": [],
   "source": [
    "import numpy as np\n",
    "import torch"
   ]
  },
  {
   "cell_type": "code",
   "execution_count": null,
   "metadata": {},
   "outputs": [],
   "source": [
    "from data.load_data import load_grad"
   ]
  },
  {
   "cell_type": "code",
   "execution_count": null,
   "metadata": {},
   "outputs": [],
   "source": [
    "grad = load_grad('data/grad_files/grad_HCP.txt')\n",
    "\n",
    "#convert to microns^2/ms\n",
    "grad[:,3] = grad[:,3] * 1e-3"
   ]
  },
  {
   "cell_type": "code",
   "execution_count": null,
   "metadata": {},
   "outputs": [],
   "source": [
    "#from signal_models import Ball \n",
    "#from signal_models import Stick\n",
    "\n",
    "comps = (\"Ball\", \"Stick\")\n",
    "\n",
    "#import dynamically\n",
    "\n",
    "import importlib\n",
    "signal_models_module = importlib.import_module(\"signal_models\")\n",
    "\n",
    "comps_classes = () #initialise tuple\n",
    "for comp in comps:\n",
    "    #get the class\n",
    "    this_class = getattr(signal_models_module, comp) #add to the tuple\n",
    "    #create an instance of the class and add to the tuple\n",
    "    comps_classes += (this_class(),)\n",
    "\n",
    "\n",
    "from model_maker import ModelMaker\n",
    "\n",
    "modelfunc = ModelMaker(comps_classes)\n"
   ]
  },
  {
   "cell_type": "code",
   "execution_count": null,
   "metadata": {},
   "outputs": [],
   "source": [
    "f = 1\n",
    "Dpar = 2 \n",
    "D = 3\n",
    "theta = 0\n",
    "phi = np.pi\n",
    "\n",
    "ball_params = torch.tensor([D], dtype=torch.float32)\n",
    "ball_params = torch.unsqueeze(ball_params, dim=0)\n",
    "\n",
    "stick_params = torch.tensor([Dpar, theta, phi], dtype=torch.float32)\n",
    "stick_params = torch.unsqueeze(stick_params, dim=0)\n",
    "\n",
    "f_params = torch.tensor([f], dtype=torch.float32)\n",
    "f_params = torch.unsqueeze(f_params, dim=0)\n",
    "\n",
    "# Concatenate along dimension 1 (columns)\n",
    "params = torch.cat([ball_params, stick_params, f_params], dim=1)\n",
    "\n",
    "\n"
   ]
  },
  {
   "cell_type": "code",
   "execution_count": null,
   "metadata": {},
   "outputs": [],
   "source": [
    "from model_maker import get_param_ind, get_f\n",
    "\n",
    "thing = get_param_ind(modelfunc.comps)\n",
    "\n",
    "f_thing = get_f(modelfunc.comps,params)"
   ]
  },
  {
   "cell_type": "code",
   "execution_count": null,
   "metadata": {},
   "outputs": [],
   "source": [
    "S = modelfunc(grad,params,f)"
   ]
  },
  {
   "cell_type": "code",
   "execution_count": null,
   "metadata": {},
   "outputs": [],
   "source": [
    "S.size()"
   ]
  },
  {
   "cell_type": "code",
   "execution_count": null,
   "metadata": {},
   "outputs": [],
   "source": [
    "import matplotlib.pyplot as plt\n",
    "plt.plot(grad[:,3],S[0,:],'o')"
   ]
  },
  {
   "cell_type": "code",
   "execution_count": null,
   "metadata": {},
   "outputs": [],
   "source": []
  }
 ],
 "metadata": {
  "kernelspec": {
   "display_name": "Python 3 (ipykernel)",
   "language": "python",
   "name": "python3"
  },
  "language_info": {
   "codemirror_mode": {
    "name": "ipython",
    "version": 3
   },
   "file_extension": ".py",
   "mimetype": "text/x-python",
   "name": "python",
   "nbconvert_exporter": "python",
   "pygments_lexer": "ipython3",
   "version": "3.10.6"
  }
 },
 "nbformat": 4,
 "nbformat_minor": 2
}
